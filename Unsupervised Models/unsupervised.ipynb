{
  "nbformat": 4,
  "nbformat_minor": 0,
  "metadata": {
    "colab": {
      "provenance": []
    },
    "kernelspec": {
      "name": "python3",
      "display_name": "Python 3"
    },
    "language_info": {
      "name": "python"
    }
  },
  "cells": [
    {
      "cell_type": "markdown",
      "source": [
        "## Data Prep"
      ],
      "metadata": {
        "id": "jF1oPxh_dRiD"
      }
    },
    {
      "cell_type": "code",
      "source": [
        "!rm -rf CIC-BCCC-NRC-IoMT-2024/\n",
        "!mkdir CIC-BCCC-NRC-IoMT-2024\n",
        "!wget http://cicresearch.ca/IOTDataset/CIC-BCCC-NRC-TabularIoTAttacks-2024/Dataset/CIC-BCCC-NRC-IoMT-2024/Benign%20Traffic.csv -O CIC-BCCC-NRC-IoMT-2024/Benign_Traffic.csv\n",
        "!wget http://cicresearch.ca/IOTDataset/CIC-BCCC-NRC-TabularIoTAttacks-2024/Dataset/CIC-BCCC-NRC-IoMT-2024/DDoS%20ICMP%20Flood.csv -O CIC-BCCC-NRC-IoMT-2024/DDoS_ICMP_Flood.csv\n",
        "!wget http://cicresearch.ca/IOTDataset/CIC-BCCC-NRC-TabularIoTAttacks-2024/Dataset/CIC-BCCC-NRC-IoMT-2024/DDoS%20UDP%20Flood.csv -O CIC-BCCC-NRC-IoMT-2024/DDoS_UDP_Flood.csv\n",
        "!wget http://cicresearch.ca/IOTDataset/CIC-BCCC-NRC-TabularIoTAttacks-2024/Dataset/CIC-BCCC-NRC-IoMT-2024/DoS%20ICMP%20Flood.csv -O CIC-BCCC-NRC-IoMT-2024/DoS_ICMP_Flood.csv\n",
        "!wget http://cicresearch.ca/IOTDataset/CIC-BCCC-NRC-TabularIoTAttacks-2024/Dataset/CIC-BCCC-NRC-IoMT-2024/DoS%20UDP%20Flood.csv -O CIC-BCCC-NRC-IoMT-2024/DoS_UDP_Flood.csv\n",
        "!wget http://cicresearch.ca/IOTDataset/CIC-BCCC-NRC-TabularIoTAttacks-2024/Dataset/CIC-BCCC-NRC-IoMT-2024/DoS%20TCP%20Flood.csv -O CIC-BCCC-NRC-IoMT-2024/DoS_TCP_Flood.csv\n",
        "!wget http://cicresearch.ca/IOTDataset/CIC-BCCC-NRC-TabularIoTAttacks-2024/Dataset/CIC-BCCC-NRC-IoMT-2024/MITM%20ARP%20Spoofing.csv -O CIC-BCCC-NRC-IoMT-2024/MITM_ARP_Spoofing.csv\n",
        "!wget http://cicresearch.ca/IOTDataset/CIC-BCCC-NRC-TabularIoTAttacks-2024/Dataset/CIC-BCCC-NRC-IoMT-2024/MQTT%20DDoS%20Publish%20Flood.csv -O CIC-BCCC-NRC-IoMT-2024/MQTT_DDoS_Publish_Flood.csv\n",
        "!wget http://cicresearch.ca/IOTDataset/CIC-BCCC-NRC-TabularIoTAttacks-2024/Dataset/CIC-BCCC-NRC-IoMT-2024/MQTT%20DoS%20Connect%20Flood.csv -O CIC-BCCC-NRC-IoMT-2024/MQTT_DoS_Connect_Flood.csv\n",
        "!wget http://cicresearch.ca/IOTDataset/CIC-BCCC-NRC-TabularIoTAttacks-2024/Dataset/CIC-BCCC-NRC-IoMT-2024/MQTT%20DoS%20Publish%20Flood.csv -O CIC-BCCC-NRC-IoMT-2024/MQTT_DoS_Publish_Flood.csv\n",
        "!wget http://cicresearch.ca/IOTDataset/CIC-BCCC-NRC-TabularIoTAttacks-2024/Dataset/CIC-BCCC-NRC-IoMT-2024/MQTT%20Malformed.csv -O CIC-BCCC-NRC-IoMT-2024/MQTT_Malformed.csv\n",
        "!wget http://cicresearch.ca/IOTDataset/CIC-BCCC-NRC-TabularIoTAttacks-2024/Dataset/CIC-BCCC-NRC-IoMT-2024/Recon%20OS%20Scan.csv -O CIC-BCCC-NRC-IoMT-2024/Recon_OS_Scan.csv\n",
        "!wget http://cicresearch.ca/IOTDataset/CIC-BCCC-NRC-TabularIoTAttacks-2024/Dataset/CIC-BCCC-NRC-IoMT-2024/Recon%20Port%20Scan.csv -O CIC-BCCC-NRC-IoMT-2024/Recon_Port_Scan.csv\n",
        "!wget http://cicresearch.ca/IOTDataset/CIC-BCCC-NRC-TabularIoTAttacks-2024/Dataset/CIC-BCCC-NRC-IoMT-2024/Recon%20Ping%20Sweep.csv -O CIC-BCCC-NRC-IoMT-2024/Recon_Ping_Sweep.csv\n",
        "!wget http://cicresearch.ca/IOTDataset/CIC-BCCC-NRC-TabularIoTAttacks-2024/Dataset/CIC-BCCC-NRC-IoMT-2024/Recon%20Vulnerability%20Scan.csv -O CIC-BCCC-NRC-IoMT-2024/Recon_Vulnerability_Scan.csv"
      ],
      "metadata": {
        "colab": {
          "base_uri": "https://localhost:8080/"
        },
        "id": "QZ9Q_vkczPPs",
        "outputId": "9c39fb36-f0db-4d27-b73a-1d2dfdd3d337"
      },
      "execution_count": null,
      "outputs": [
        {
          "output_type": "stream",
          "name": "stdout",
          "text": [
            "--2025-04-09 20:13:51--  http://cicresearch.ca/IOTDataset/CIC-BCCC-NRC-TabularIoTAttacks-2024/Dataset/CIC-BCCC-NRC-IoMT-2024/Benign%20Traffic.csv\n",
            "Resolving cicresearch.ca (cicresearch.ca)... 205.174.165.80\n",
            "Connecting to cicresearch.ca (cicresearch.ca)|205.174.165.80|:80... connected.\n",
            "HTTP request sent, awaiting response... 200 OK\n",
            "Length: 22171291 (21M) [text/csv]\n",
            "Saving to: ‘CIC-BCCC-NRC-IoMT-2024/Benign_Traffic.csv’\n",
            "\n",
            "CIC-BCCC-NRC-IoMT-2 100%[===================>]  21.14M  8.24MB/s    in 2.6s    \n",
            "\n",
            "2025-04-09 20:13:54 (8.24 MB/s) - ‘CIC-BCCC-NRC-IoMT-2024/Benign_Traffic.csv’ saved [22171291/22171291]\n",
            "\n",
            "--2025-04-09 20:13:54--  http://cicresearch.ca/IOTDataset/CIC-BCCC-NRC-TabularIoTAttacks-2024/Dataset/CIC-BCCC-NRC-IoMT-2024/DDoS%20ICMP%20Flood.csv\n",
            "Resolving cicresearch.ca (cicresearch.ca)... 205.174.165.80\n",
            "Connecting to cicresearch.ca (cicresearch.ca)|205.174.165.80|:80... connected.\n",
            "HTTP request sent, awaiting response... 200 OK\n",
            "Length: 1708548 (1.6M) [text/csv]\n",
            "Saving to: ‘CIC-BCCC-NRC-IoMT-2024/DDoS_ICMP_Flood.csv’\n",
            "\n",
            "CIC-BCCC-NRC-IoMT-2 100%[===================>]   1.63M  2.67MB/s    in 0.6s    \n",
            "\n",
            "2025-04-09 20:13:55 (2.67 MB/s) - ‘CIC-BCCC-NRC-IoMT-2024/DDoS_ICMP_Flood.csv’ saved [1708548/1708548]\n",
            "\n",
            "--2025-04-09 20:13:55--  http://cicresearch.ca/IOTDataset/CIC-BCCC-NRC-TabularIoTAttacks-2024/Dataset/CIC-BCCC-NRC-IoMT-2024/DDoS%20UDP%20Flood.csv\n",
            "Resolving cicresearch.ca (cicresearch.ca)... 205.174.165.80\n",
            "Connecting to cicresearch.ca (cicresearch.ca)|205.174.165.80|:80... connected.\n",
            "HTTP request sent, awaiting response... 200 OK\n",
            "Length: 1682823 (1.6M) [text/csv]\n",
            "Saving to: ‘CIC-BCCC-NRC-IoMT-2024/DDoS_UDP_Flood.csv’\n",
            "\n",
            "CIC-BCCC-NRC-IoMT-2 100%[===================>]   1.60M  2.72MB/s    in 0.6s    \n",
            "\n",
            "2025-04-09 20:13:56 (2.72 MB/s) - ‘CIC-BCCC-NRC-IoMT-2024/DDoS_UDP_Flood.csv’ saved [1682823/1682823]\n",
            "\n",
            "--2025-04-09 20:13:56--  http://cicresearch.ca/IOTDataset/CIC-BCCC-NRC-TabularIoTAttacks-2024/Dataset/CIC-BCCC-NRC-IoMT-2024/DoS%20ICMP%20Flood.csv\n",
            "Resolving cicresearch.ca (cicresearch.ca)... 205.174.165.80\n",
            "Connecting to cicresearch.ca (cicresearch.ca)|205.174.165.80|:80... connected.\n",
            "HTTP request sent, awaiting response... 200 OK\n",
            "Length: 1429755 (1.4M) [text/csv]\n",
            "Saving to: ‘CIC-BCCC-NRC-IoMT-2024/DoS_ICMP_Flood.csv’\n",
            "\n",
            "CIC-BCCC-NRC-IoMT-2 100%[===================>]   1.36M  2.47MB/s    in 0.6s    \n",
            "\n",
            "2025-04-09 20:13:56 (2.47 MB/s) - ‘CIC-BCCC-NRC-IoMT-2024/DoS_ICMP_Flood.csv’ saved [1429755/1429755]\n",
            "\n",
            "--2025-04-09 20:13:56--  http://cicresearch.ca/IOTDataset/CIC-BCCC-NRC-TabularIoTAttacks-2024/Dataset/CIC-BCCC-NRC-IoMT-2024/DoS%20UDP%20Flood.csv\n",
            "Resolving cicresearch.ca (cicresearch.ca)... 205.174.165.80\n",
            "Connecting to cicresearch.ca (cicresearch.ca)|205.174.165.80|:80... connected.\n",
            "HTTP request sent, awaiting response... 200 OK\n",
            "Length: 2000932 (1.9M) [text/csv]\n",
            "Saving to: ‘CIC-BCCC-NRC-IoMT-2024/DoS_UDP_Flood.csv’\n",
            "\n",
            "CIC-BCCC-NRC-IoMT-2 100%[===================>]   1.91M  2.97MB/s    in 0.6s    \n",
            "\n",
            "2025-04-09 20:13:57 (2.97 MB/s) - ‘CIC-BCCC-NRC-IoMT-2024/DoS_UDP_Flood.csv’ saved [2000932/2000932]\n",
            "\n",
            "--2025-04-09 20:13:57--  http://cicresearch.ca/IOTDataset/CIC-BCCC-NRC-TabularIoTAttacks-2024/Dataset/CIC-BCCC-NRC-IoMT-2024/DoS%20TCP%20Flood.csv\n",
            "Resolving cicresearch.ca (cicresearch.ca)... 205.174.165.80\n",
            "Connecting to cicresearch.ca (cicresearch.ca)|205.174.165.80|:80... connected.\n",
            "HTTP request sent, awaiting response... 200 OK\n",
            "Length: 1105891250 (1.0G) [text/csv]\n",
            "Saving to: ‘CIC-BCCC-NRC-IoMT-2024/DoS_TCP_Flood.csv’\n",
            "\n",
            "CIC-BCCC-NRC-IoMT-2 100%[===================>]   1.03G  52.1MB/s    in 28s     \n",
            "\n",
            "2025-04-09 20:14:26 (37.2 MB/s) - ‘CIC-BCCC-NRC-IoMT-2024/DoS_TCP_Flood.csv’ saved [1105891250/1105891250]\n",
            "\n",
            "--2025-04-09 20:14:26--  http://cicresearch.ca/IOTDataset/CIC-BCCC-NRC-TabularIoTAttacks-2024/Dataset/CIC-BCCC-NRC-IoMT-2024/MITM%20ARP%20Spoofing.csv\n",
            "Resolving cicresearch.ca (cicresearch.ca)... 205.174.165.80\n",
            "Connecting to cicresearch.ca (cicresearch.ca)|205.174.165.80|:80... connected.\n",
            "HTTP request sent, awaiting response... 200 OK\n",
            "Length: 706211 (690K) [text/csv]\n",
            "Saving to: ‘CIC-BCCC-NRC-IoMT-2024/MITM_ARP_Spoofing.csv’\n",
            "\n",
            "CIC-BCCC-NRC-IoMT-2 100%[===================>] 689.66K  1.82MB/s    in 0.4s    \n",
            "\n",
            "2025-04-09 20:14:27 (1.82 MB/s) - ‘CIC-BCCC-NRC-IoMT-2024/MITM_ARP_Spoofing.csv’ saved [706211/706211]\n",
            "\n",
            "--2025-04-09 20:14:27--  http://cicresearch.ca/IOTDataset/CIC-BCCC-NRC-TabularIoTAttacks-2024/Dataset/CIC-BCCC-NRC-IoMT-2024/MQTT%20DDoS%20Publish%20Flood.csv\n",
            "Resolving cicresearch.ca (cicresearch.ca)... 205.174.165.80\n",
            "Connecting to cicresearch.ca (cicresearch.ca)|205.174.165.80|:80... connected.\n",
            "HTTP request sent, awaiting response... 200 OK\n",
            "Length: 200839754 (192M) [text/csv]\n",
            "Saving to: ‘CIC-BCCC-NRC-IoMT-2024/MQTT_DDoS_Publish_Flood.csv’\n",
            "\n",
            "CIC-BCCC-NRC-IoMT-2 100%[===================>] 191.54M  36.1MB/s    in 6.4s    \n",
            "\n",
            "2025-04-09 20:14:34 (29.8 MB/s) - ‘CIC-BCCC-NRC-IoMT-2024/MQTT_DDoS_Publish_Flood.csv’ saved [200839754/200839754]\n",
            "\n",
            "--2025-04-09 20:14:34--  http://cicresearch.ca/IOTDataset/CIC-BCCC-NRC-TabularIoTAttacks-2024/Dataset/CIC-BCCC-NRC-IoMT-2024/MQTT%20DoS%20Connect%20Flood.csv\n",
            "Resolving cicresearch.ca (cicresearch.ca)... 205.174.165.80\n",
            "Connecting to cicresearch.ca (cicresearch.ca)|205.174.165.80|:80... connected.\n",
            "HTTP request sent, awaiting response... 200 OK\n",
            "Length: 142362942 (136M) [text/csv]\n",
            "Saving to: ‘CIC-BCCC-NRC-IoMT-2024/MQTT_DoS_Connect_Flood.csv’\n",
            "\n",
            "CIC-BCCC-NRC-IoMT-2 100%[===================>] 135.77M  38.3MB/s    in 4.6s    \n",
            "\n",
            "2025-04-09 20:14:39 (29.2 MB/s) - ‘CIC-BCCC-NRC-IoMT-2024/MQTT_DoS_Connect_Flood.csv’ saved [142362942/142362942]\n",
            "\n",
            "--2025-04-09 20:14:39--  http://cicresearch.ca/IOTDataset/CIC-BCCC-NRC-TabularIoTAttacks-2024/Dataset/CIC-BCCC-NRC-IoMT-2024/MQTT%20DoS%20Publish%20Flood.csv\n",
            "Resolving cicresearch.ca (cicresearch.ca)... 205.174.165.80\n",
            "Connecting to cicresearch.ca (cicresearch.ca)|205.174.165.80|:80... connected.\n",
            "HTTP request sent, awaiting response... 200 OK\n",
            "Length: 703288 (687K) [text/csv]\n",
            "Saving to: ‘CIC-BCCC-NRC-IoMT-2024/MQTT_DoS_Publish_Flood.csv’\n",
            "\n",
            "CIC-BCCC-NRC-IoMT-2 100%[===================>] 686.80K  1.85MB/s    in 0.4s    \n",
            "\n",
            "2025-04-09 20:14:39 (1.85 MB/s) - ‘CIC-BCCC-NRC-IoMT-2024/MQTT_DoS_Publish_Flood.csv’ saved [703288/703288]\n",
            "\n",
            "--2025-04-09 20:14:39--  http://cicresearch.ca/IOTDataset/CIC-BCCC-NRC-TabularIoTAttacks-2024/Dataset/CIC-BCCC-NRC-IoMT-2024/MQTT%20Malformed.csv\n",
            "Resolving cicresearch.ca (cicresearch.ca)... 205.174.165.80\n",
            "Connecting to cicresearch.ca (cicresearch.ca)|205.174.165.80|:80... connected.\n",
            "HTTP request sent, awaiting response... 200 OK\n",
            "Length: 1257861 (1.2M) [text/csv]\n",
            "Saving to: ‘CIC-BCCC-NRC-IoMT-2024/MQTT_Malformed.csv’\n",
            "\n",
            "CIC-BCCC-NRC-IoMT-2 100%[===================>]   1.20M  2.49MB/s    in 0.5s    \n",
            "\n",
            "2025-04-09 20:14:40 (2.49 MB/s) - ‘CIC-BCCC-NRC-IoMT-2024/MQTT_Malformed.csv’ saved [1257861/1257861]\n",
            "\n",
            "--2025-04-09 20:14:40--  http://cicresearch.ca/IOTDataset/CIC-BCCC-NRC-TabularIoTAttacks-2024/Dataset/CIC-BCCC-NRC-IoMT-2024/Recon%20OS%20Scan.csv\n",
            "Resolving cicresearch.ca (cicresearch.ca)... 205.174.165.80\n",
            "Connecting to cicresearch.ca (cicresearch.ca)|205.174.165.80|:80... connected.\n",
            "HTTP request sent, awaiting response... 200 OK\n",
            "Length: 37478432 (36M) [text/csv]\n",
            "Saving to: ‘CIC-BCCC-NRC-IoMT-2024/Recon_OS_Scan.csv’\n",
            "\n",
            "CIC-BCCC-NRC-IoMT-2 100%[===================>]  35.74M  17.4MB/s    in 2.1s    \n",
            "\n",
            "2025-04-09 20:14:42 (17.4 MB/s) - ‘CIC-BCCC-NRC-IoMT-2024/Recon_OS_Scan.csv’ saved [37478432/37478432]\n",
            "\n",
            "--2025-04-09 20:14:42--  http://cicresearch.ca/IOTDataset/CIC-BCCC-NRC-TabularIoTAttacks-2024/Dataset/CIC-BCCC-NRC-IoMT-2024/Recon%20Port%20Scan.csv\n",
            "Resolving cicresearch.ca (cicresearch.ca)... 205.174.165.80\n",
            "Connecting to cicresearch.ca (cicresearch.ca)|205.174.165.80|:80... connected.\n",
            "HTTP request sent, awaiting response... 200 OK\n",
            "Length: 214024065 (204M) [text/csv]\n",
            "Saving to: ‘CIC-BCCC-NRC-IoMT-2024/Recon_Port_Scan.csv’\n",
            "\n",
            "CIC-BCCC-NRC-IoMT-2 100%[===================>] 204.11M  41.4MB/s    in 6.5s    \n",
            "\n",
            "2025-04-09 20:14:49 (31.5 MB/s) - ‘CIC-BCCC-NRC-IoMT-2024/Recon_Port_Scan.csv’ saved [214024065/214024065]\n",
            "\n",
            "--2025-04-09 20:14:49--  http://cicresearch.ca/IOTDataset/CIC-BCCC-NRC-TabularIoTAttacks-2024/Dataset/CIC-BCCC-NRC-IoMT-2024/Recon%20Ping%20Sweep.csv\n",
            "Resolving cicresearch.ca (cicresearch.ca)... 205.174.165.80\n",
            "Connecting to cicresearch.ca (cicresearch.ca)|205.174.165.80|:80... connected.\n",
            "HTTP request sent, awaiting response... 200 OK\n",
            "Length: 48034 (47K) [text/csv]\n",
            "Saving to: ‘CIC-BCCC-NRC-IoMT-2024/Recon_Ping_Sweep.csv’\n",
            "\n",
            "CIC-BCCC-NRC-IoMT-2 100%[===================>]  46.91K  --.-KB/s    in 0.06s   \n",
            "\n",
            "2025-04-09 20:14:50 (833 KB/s) - ‘CIC-BCCC-NRC-IoMT-2024/Recon_Ping_Sweep.csv’ saved [48034/48034]\n",
            "\n",
            "--2025-04-09 20:14:50--  http://cicresearch.ca/IOTDataset/CIC-BCCC-NRC-TabularIoTAttacks-2024/Dataset/CIC-BCCC-NRC-IoMT-2024/Recon%20Vulnerability%20Scan.csv\n",
            "Resolving cicresearch.ca (cicresearch.ca)... 205.174.165.80\n",
            "Connecting to cicresearch.ca (cicresearch.ca)|205.174.165.80|:80... connected.\n",
            "HTTP request sent, awaiting response... 200 OK\n",
            "Length: 3795093 (3.6M) [text/csv]\n",
            "Saving to: ‘CIC-BCCC-NRC-IoMT-2024/Recon_Vulnerability_Scan.csv’\n",
            "\n",
            "CIC-BCCC-NRC-IoMT-2 100%[===================>]   3.62M  4.19MB/s    in 0.9s    \n",
            "\n",
            "2025-04-09 20:14:51 (4.19 MB/s) - ‘CIC-BCCC-NRC-IoMT-2024/Recon_Vulnerability_Scan.csv’ saved [3795093/3795093]\n",
            "\n"
          ]
        }
      ]
    },
    {
      "cell_type": "code",
      "source": [
        "!ls CIC-BCCC-NRC-IoMT-2024/"
      ],
      "metadata": {
        "colab": {
          "base_uri": "https://localhost:8080/"
        },
        "id": "5cYWd53NzZbN",
        "outputId": "cb3eaa03-fcd9-4db2-d4b0-5e9998576e31"
      },
      "execution_count": null,
      "outputs": [
        {
          "output_type": "stream",
          "name": "stdout",
          "text": [
            "Benign_Traffic.csv   DoS_UDP_Flood.csv\t\t  MQTT_Malformed.csv\n",
            "DDoS_ICMP_Flood.csv  MITM_ARP_Spoofing.csv\t  Recon_OS_Scan.csv\n",
            "DDoS_UDP_Flood.csv   MQTT_DDoS_Publish_Flood.csv  Recon_Ping_Sweep.csv\n",
            "DoS_ICMP_Flood.csv   MQTT_DoS_Connect_Flood.csv   Recon_Port_Scan.csv\n",
            "DoS_TCP_Flood.csv    MQTT_DoS_Publish_Flood.csv   Recon_Vulnerability_Scan.csv\n"
          ]
        }
      ]
    },
    {
      "cell_type": "code",
      "source": [
        "import pandas as pd\n",
        "import numpy as np\n",
        "import glob\n",
        "\n",
        "csv_files = glob.glob(\"CIC-BCCC-NRC-IoMT-2024/*.csv\")\n",
        "df_list = []\n",
        "for file in csv_files:\n",
        "    try:\n",
        "        df = pd.read_csv(file)\n",
        "        df_list.append(df)\n",
        "    except Exception as e:\n",
        "        print(f\"Error loading {file}: {e}\")\n",
        "\n",
        "data = pd.concat(df_list, axis=0, ignore_index=True)\n",
        "print(data.shape)"
      ],
      "metadata": {
        "colab": {
          "base_uri": "https://localhost:8080/"
        },
        "id": "qXA86MoNCGPv",
        "outputId": "1892a62b-5e2b-4627-ca20-64d807052383"
      },
      "execution_count": null,
      "outputs": [
        {
          "output_type": "stream",
          "name": "stdout",
          "text": [
            "(3385313, 85)\n"
          ]
        }
      ]
    },
    {
      "cell_type": "code",
      "source": [
        "columns_to_drop = ['Flow ID', 'Src IP', 'Dst IP', 'Timestamp', 'Attack Name']\n",
        "data = data.drop(columns=columns_to_drop, errors='ignore')\n",
        "data = data.sample(n=1_000_000, random_state=42)\n",
        "X = data.drop(\"Label\", axis=1)\n",
        "y = data[\"Label\"]"
      ],
      "metadata": {
        "id": "lbzmUrl3D47c"
      },
      "execution_count": null,
      "outputs": []
    },
    {
      "cell_type": "code",
      "source": [
        "from sklearn.preprocessing import StandardScaler\n",
        "from sklearn.model_selection import train_test_split\n",
        "\n",
        "scaler = StandardScaler()\n",
        "X_scaled = scaler.fit_transform(X)\n",
        "X_cnn = X_scaled.reshape(X_scaled.shape[0], X_scaled.shape[1], 1)\n",
        "X_train, X_test, y_train, y_test = train_test_split(X_cnn, y, test_size=0.2, random_state=42)\n",
        "print(\"Training set shape:\", X_train.shape)\n",
        "print(\"Test set shape:\", X_test.shape)"
      ],
      "metadata": {
        "colab": {
          "base_uri": "https://localhost:8080/"
        },
        "id": "ocdvjdCvdxH4",
        "outputId": "09496a47-88d7-4ce8-fc9d-8694e78cac63"
      },
      "execution_count": null,
      "outputs": [
        {
          "output_type": "stream",
          "name": "stdout",
          "text": [
            "Training set shape: (800000, 79, 1)\n",
            "Test set shape: (200000, 79, 1)\n"
          ]
        }
      ]
    },
    {
      "cell_type": "markdown",
      "source": [
        "## 2D Models - Reshape"
      ],
      "metadata": {
        "id": "v3wigxmgfAa3"
      }
    },
    {
      "cell_type": "code",
      "source": [
        "X_train, X_test, y_train, y_test = train_test_split(X_scaled, y, test_size=0.2, random_state=42)\n",
        "print(\"Training set shape:\", X_train.shape)\n",
        "print(\"Test set shape:\", X_test.shape)"
      ],
      "metadata": {
        "colab": {
          "base_uri": "https://localhost:8080/"
        },
        "id": "uCEssR87fDo5",
        "outputId": "150ef42d-f8ad-4c61-e07f-f9de33c21361"
      },
      "execution_count": null,
      "outputs": [
        {
          "output_type": "stream",
          "name": "stdout",
          "text": [
            "Training set shape: (800000, 79)\n",
            "Test set shape: (200000, 79)\n"
          ]
        }
      ]
    },
    {
      "cell_type": "markdown",
      "source": [
        "## Isolation Forest (Unsupervised) - 12s"
      ],
      "metadata": {
        "id": "9yaF7jyruv7h"
      }
    },
    {
      "cell_type": "code",
      "source": [
        "from sklearn.ensemble import IsolationForest\n",
        "from sklearn.metrics import classification_report\n",
        "\n",
        "iso_forest = IsolationForest(contamination=0.01, random_state=42)\n",
        "iso_forest.fit(X_train)\n",
        "y_pred_if = iso_forest.predict(X_test)\n",
        "y_pred_if = np.where(y_pred_if == -1, 1, 0)\n",
        "accuracy_if = accuracy_score(y_test, y_pred_if)\n",
        "print(\"Isolation Forest Accuracy:\", accuracy_if)\n",
        "print(classification_report(y_test, y_pred_if))"
      ],
      "metadata": {
        "colab": {
          "base_uri": "https://localhost:8080/"
        },
        "id": "s_zh56MVu0IX",
        "outputId": "1cbdcb92-5c73-40a6-d48a-0aeda85445e7"
      },
      "execution_count": null,
      "outputs": [
        {
          "output_type": "stream",
          "name": "stdout",
          "text": [
            "Isolation Forest Accuracy: 0.014565\n",
            "              precision    recall  f1-score   support\n",
            "\n",
            "           0       0.01      0.75      0.01      1880\n",
            "           1       0.76      0.01      0.02    198120\n",
            "\n",
            "    accuracy                           0.01    200000\n",
            "   macro avg       0.38      0.38      0.01    200000\n",
            "weighted avg       0.75      0.01      0.02    200000\n",
            "\n"
          ]
        }
      ]
    }
  ]
}