{
  "nbformat": 4,
  "nbformat_minor": 0,
  "metadata": {
    "colab": {
      "provenance": []
    },
    "kernelspec": {
      "name": "python3",
      "display_name": "Python 3"
    },
    "language_info": {
      "name": "python"
    }
  },
  "cells": [
    {
      "cell_type": "code",
      "execution_count": null,
      "metadata": {
        "colab": {
          "base_uri": "https://localhost:8080/"
        },
        "id": "NQLcBCs85vZa",
        "outputId": "6a0aac57-2203-4790-bbd8-477076d86226"
      },
      "outputs": [
        {
          "output_type": "stream",
          "name": "stdout",
          "text": [
            "--2025-04-09 09:35:56--  http://cicresearch.ca/IOTDataset/CIC-BCCC-NRC-TabularIoTAttacks-2024/Dataset/CIC-BCCC-NRC-IoMT-2024/Benign%20Traffic.csv\n",
            "Resolving cicresearch.ca (cicresearch.ca)... 205.174.165.80\n",
            "Connecting to cicresearch.ca (cicresearch.ca)|205.174.165.80|:80... connected.\n",
            "HTTP request sent, awaiting response... 200 OK\n",
            "Length: 22171291 (21M) [text/csv]\n",
            "Saving to: ‘CIC-BCCC-NRC-IoMT-2024/Benign_Traffic.csv’\n",
            "\n",
            "CIC-BCCC-NRC-IoMT-2 100%[===================>]  21.14M  2.43MB/s    in 13s     \n",
            "\n",
            "2025-04-09 09:36:11 (1.57 MB/s) - ‘CIC-BCCC-NRC-IoMT-2024/Benign_Traffic.csv’ saved [22171291/22171291]\n",
            "\n",
            "--2025-04-09 09:36:11--  http://cicresearch.ca/IOTDataset/CIC-BCCC-NRC-TabularIoTAttacks-2024/Dataset/CIC-BCCC-NRC-IoMT-2024/DDoS%20ICMP%20Flood.csv\n",
            "Resolving cicresearch.ca (cicresearch.ca)... 205.174.165.80\n",
            "Connecting to cicresearch.ca (cicresearch.ca)|205.174.165.80|:80... connected.\n",
            "HTTP request sent, awaiting response... 200 OK\n",
            "Length: 1708548 (1.6M) [text/csv]\n",
            "Saving to: ‘CIC-BCCC-NRC-IoMT-2024/DDoS_ICMP_Flood.csv’\n",
            "\n",
            "CIC-BCCC-NRC-IoMT-2 100%[===================>]   1.63M   782KB/s    in 2.1s    \n",
            "\n",
            "2025-04-09 09:36:13 (782 KB/s) - ‘CIC-BCCC-NRC-IoMT-2024/DDoS_ICMP_Flood.csv’ saved [1708548/1708548]\n",
            "\n",
            "--2025-04-09 09:36:13--  http://cicresearch.ca/IOTDataset/CIC-BCCC-NRC-TabularIoTAttacks-2024/Dataset/CIC-BCCC-NRC-IoMT-2024/DDoS%20UDP%20Flood.csv\n",
            "Resolving cicresearch.ca (cicresearch.ca)... 205.174.165.80\n",
            "Connecting to cicresearch.ca (cicresearch.ca)|205.174.165.80|:80... connected.\n",
            "HTTP request sent, awaiting response... 200 OK\n",
            "Length: 1682823 (1.6M) [text/csv]\n",
            "Saving to: ‘CIC-BCCC-NRC-IoMT-2024/DDoS_UDP_Flood.csv’\n",
            "\n",
            "CIC-BCCC-NRC-IoMT-2 100%[===================>]   1.60M   822KB/s    in 2.0s    \n",
            "\n",
            "2025-04-09 09:36:15 (822 KB/s) - ‘CIC-BCCC-NRC-IoMT-2024/DDoS_UDP_Flood.csv’ saved [1682823/1682823]\n",
            "\n",
            "--2025-04-09 09:36:15--  http://cicresearch.ca/IOTDataset/CIC-BCCC-NRC-TabularIoTAttacks-2024/Dataset/CIC-BCCC-NRC-IoMT-2024/DoS%20ICMP%20Flood.csv\n",
            "Resolving cicresearch.ca (cicresearch.ca)... 205.174.165.80\n",
            "Connecting to cicresearch.ca (cicresearch.ca)|205.174.165.80|:80... connected.\n",
            "HTTP request sent, awaiting response... 200 OK\n",
            "Length: 1429755 (1.4M) [text/csv]\n",
            "Saving to: ‘CIC-BCCC-NRC-IoMT-2024/DoS_ICMP_Flood.csv’\n",
            "\n",
            "CIC-BCCC-NRC-IoMT-2 100%[===================>]   1.36M   743KB/s    in 1.9s    \n",
            "\n",
            "2025-04-09 09:36:18 (743 KB/s) - ‘CIC-BCCC-NRC-IoMT-2024/DoS_ICMP_Flood.csv’ saved [1429755/1429755]\n",
            "\n",
            "--2025-04-09 09:36:18--  http://cicresearch.ca/IOTDataset/CIC-BCCC-NRC-TabularIoTAttacks-2024/Dataset/CIC-BCCC-NRC-IoMT-2024/DoS%20UDP%20Flood.csv\n",
            "Resolving cicresearch.ca (cicresearch.ca)... 205.174.165.80\n",
            "Connecting to cicresearch.ca (cicresearch.ca)|205.174.165.80|:80... connected.\n",
            "HTTP request sent, awaiting response... 200 OK\n",
            "Length: 2000932 (1.9M) [text/csv]\n",
            "Saving to: ‘CIC-BCCC-NRC-IoMT-2024/DoS_UDP_Flood.csv’\n",
            "\n",
            "CIC-BCCC-NRC-IoMT-2 100%[===================>]   1.91M   840KB/s    in 2.3s    \n",
            "\n",
            "2025-04-09 09:36:20 (840 KB/s) - ‘CIC-BCCC-NRC-IoMT-2024/DoS_UDP_Flood.csv’ saved [2000932/2000932]\n",
            "\n",
            "--2025-04-09 09:36:20--  http://cicresearch.ca/IOTDataset/CIC-BCCC-NRC-TabularIoTAttacks-2024/Dataset/CIC-BCCC-NRC-IoMT-2024/DoS%20TCP%20Flood.csv\n",
            "Resolving cicresearch.ca (cicresearch.ca)... 205.174.165.80\n",
            "Connecting to cicresearch.ca (cicresearch.ca)|205.174.165.80|:80... connected.\n",
            "HTTP request sent, awaiting response... 200 OK\n",
            "Length: 1105891250 (1.0G) [text/csv]\n",
            "Saving to: ‘CIC-BCCC-NRC-IoMT-2024/DoS_TCP_Flood.csv’\n",
            "\n",
            "CIC-BCCC-NRC-IoMT-2 100%[===================>]   1.03G  11.0MB/s    in 2m 0s   \n",
            "\n",
            "2025-04-09 09:38:21 (8.81 MB/s) - ‘CIC-BCCC-NRC-IoMT-2024/DoS_TCP_Flood.csv’ saved [1105891250/1105891250]\n",
            "\n",
            "--2025-04-09 09:38:21--  http://cicresearch.ca/IOTDataset/CIC-BCCC-NRC-TabularIoTAttacks-2024/Dataset/CIC-BCCC-NRC-IoMT-2024/MITM%20ARP%20Spoofing.csv\n",
            "Resolving cicresearch.ca (cicresearch.ca)... 205.174.165.80\n",
            "Connecting to cicresearch.ca (cicresearch.ca)|205.174.165.80|:80... connected.\n",
            "HTTP request sent, awaiting response... 200 OK\n",
            "Length: 706211 (690K) [text/csv]\n",
            "Saving to: ‘CIC-BCCC-NRC-IoMT-2024/MITM_ARP_Spoofing.csv’\n",
            "\n",
            "CIC-BCCC-NRC-IoMT-2 100%[===================>] 689.66K   462KB/s    in 1.5s    \n",
            "\n",
            "2025-04-09 09:38:22 (462 KB/s) - ‘CIC-BCCC-NRC-IoMT-2024/MITM_ARP_Spoofing.csv’ saved [706211/706211]\n",
            "\n",
            "--2025-04-09 09:38:22--  http://cicresearch.ca/IOTDataset/CIC-BCCC-NRC-TabularIoTAttacks-2024/Dataset/CIC-BCCC-NRC-IoMT-2024/MQTT%20DDoS%20Publish%20Flood.csv\n",
            "Resolving cicresearch.ca (cicresearch.ca)... 205.174.165.80\n",
            "Connecting to cicresearch.ca (cicresearch.ca)|205.174.165.80|:80... connected.\n",
            "HTTP request sent, awaiting response... 200 OK\n",
            "Length: 200839754 (192M) [text/csv]\n",
            "Saving to: ‘CIC-BCCC-NRC-IoMT-2024/MQTT_DDoS_Publish_Flood.csv’\n",
            "\n",
            "CIC-BCCC-NRC-IoMT-2 100%[===================>] 191.54M  19.3MB/s    in 29s     \n",
            "\n",
            "2025-04-09 09:38:53 (6.54 MB/s) - ‘CIC-BCCC-NRC-IoMT-2024/MQTT_DDoS_Publish_Flood.csv’ saved [200839754/200839754]\n",
            "\n",
            "--2025-04-09 09:38:53--  http://cicresearch.ca/IOTDataset/CIC-BCCC-NRC-TabularIoTAttacks-2024/Dataset/CIC-BCCC-NRC-IoMT-2024/MQTT%20DoS%20Connect%20Flood.csv\n",
            "Resolving cicresearch.ca (cicresearch.ca)... 205.174.165.80\n",
            "Connecting to cicresearch.ca (cicresearch.ca)|205.174.165.80|:80... connected.\n",
            "HTTP request sent, awaiting response... 200 OK\n",
            "Length: 142362942 (136M) [text/csv]\n",
            "Saving to: ‘CIC-BCCC-NRC-IoMT-2024/MQTT_DoS_Connect_Flood.csv’\n",
            "\n",
            "CIC-BCCC-NRC-IoMT-2 100%[===================>] 135.77M  15.2MB/s    in 15s     \n",
            "\n",
            "2025-04-09 09:39:08 (9.08 MB/s) - ‘CIC-BCCC-NRC-IoMT-2024/MQTT_DoS_Connect_Flood.csv’ saved [142362942/142362942]\n",
            "\n",
            "--2025-04-09 09:39:08--  http://cicresearch.ca/IOTDataset/CIC-BCCC-NRC-TabularIoTAttacks-2024/Dataset/CIC-BCCC-NRC-IoMT-2024/MQTT%20DoS%20Publish%20Flood.csv\n",
            "Resolving cicresearch.ca (cicresearch.ca)... 205.174.165.80\n",
            "Connecting to cicresearch.ca (cicresearch.ca)|205.174.165.80|:80... connected.\n",
            "HTTP request sent, awaiting response... 200 OK\n",
            "Length: 703288 (687K) [text/csv]\n",
            "Saving to: ‘CIC-BCCC-NRC-IoMT-2024/MQTT_DoS_Publish_Flood.csv’\n",
            "\n",
            "CIC-BCCC-NRC-IoMT-2 100%[===================>] 686.80K   496KB/s    in 1.4s    \n",
            "\n",
            "2025-04-09 09:39:10 (496 KB/s) - ‘CIC-BCCC-NRC-IoMT-2024/MQTT_DoS_Publish_Flood.csv’ saved [703288/703288]\n",
            "\n",
            "--2025-04-09 09:39:10--  http://cicresearch.ca/IOTDataset/CIC-BCCC-NRC-TabularIoTAttacks-2024/Dataset/CIC-BCCC-NRC-IoMT-2024/MQTT%20Malformed.csv\n",
            "Resolving cicresearch.ca (cicresearch.ca)... 205.174.165.80\n",
            "Connecting to cicresearch.ca (cicresearch.ca)|205.174.165.80|:80... connected.\n",
            "HTTP request sent, awaiting response... 200 OK\n",
            "Length: 1257861 (1.2M) [text/csv]\n",
            "Saving to: ‘CIC-BCCC-NRC-IoMT-2024/MQTT_Malformed.csv’\n",
            "\n",
            "CIC-BCCC-NRC-IoMT-2 100%[===================>]   1.20M   667KB/s    in 1.8s    \n",
            "\n",
            "2025-04-09 09:39:12 (667 KB/s) - ‘CIC-BCCC-NRC-IoMT-2024/MQTT_Malformed.csv’ saved [1257861/1257861]\n",
            "\n",
            "--2025-04-09 09:39:12--  http://cicresearch.ca/IOTDataset/CIC-BCCC-NRC-TabularIoTAttacks-2024/Dataset/CIC-BCCC-NRC-IoMT-2024/Recon%20OS%20Scan.csv\n",
            "Resolving cicresearch.ca (cicresearch.ca)... 205.174.165.80\n",
            "Connecting to cicresearch.ca (cicresearch.ca)|205.174.165.80|:80... connected.\n",
            "HTTP request sent, awaiting response... 200 OK\n",
            "Length: 37478432 (36M) [text/csv]\n",
            "Saving to: ‘CIC-BCCC-NRC-IoMT-2024/Recon_OS_Scan.csv’\n",
            "\n",
            "CIC-BCCC-NRC-IoMT-2 100%[===================>]  35.74M  3.87MB/s    in 11s     \n",
            "\n",
            "2025-04-09 09:39:23 (3.37 MB/s) - ‘CIC-BCCC-NRC-IoMT-2024/Recon_OS_Scan.csv’ saved [37478432/37478432]\n",
            "\n",
            "--2025-04-09 09:39:23--  http://cicresearch.ca/IOTDataset/CIC-BCCC-NRC-TabularIoTAttacks-2024/Dataset/CIC-BCCC-NRC-IoMT-2024/Recon%20Port%20Scan.csv\n",
            "Resolving cicresearch.ca (cicresearch.ca)... 205.174.165.80\n",
            "Connecting to cicresearch.ca (cicresearch.ca)|205.174.165.80|:80... connected.\n",
            "HTTP request sent, awaiting response... 200 OK\n",
            "Length: 214024065 (204M) [text/csv]\n",
            "Saving to: ‘CIC-BCCC-NRC-IoMT-2024/Recon_Port_Scan.csv’\n",
            "\n",
            "CIC-BCCC-NRC-IoMT-2 100%[===================>] 204.11M  11.0MB/s    in 40s     \n",
            "\n",
            "2025-04-09 09:40:04 (5.15 MB/s) - ‘CIC-BCCC-NRC-IoMT-2024/Recon_Port_Scan.csv’ saved [214024065/214024065]\n",
            "\n",
            "--2025-04-09 09:40:04--  http://cicresearch.ca/IOTDataset/CIC-BCCC-NRC-TabularIoTAttacks-2024/Dataset/CIC-BCCC-NRC-IoMT-2024/Recon%20Ping%20Sweep.csv\n",
            "Resolving cicresearch.ca (cicresearch.ca)... 205.174.165.80\n",
            "Connecting to cicresearch.ca (cicresearch.ca)|205.174.165.80|:80... connected.\n",
            "HTTP request sent, awaiting response... 200 OK\n",
            "Length: 48034 (47K) [text/csv]\n",
            "Saving to: ‘CIC-BCCC-NRC-IoMT-2024/Recon_Ping_Sweep.csv’\n",
            "\n",
            "CIC-BCCC-NRC-IoMT-2 100%[===================>]  46.91K   254KB/s    in 0.2s    \n",
            "\n",
            "2025-04-09 09:40:04 (254 KB/s) - ‘CIC-BCCC-NRC-IoMT-2024/Recon_Ping_Sweep.csv’ saved [48034/48034]\n",
            "\n",
            "--2025-04-09 09:40:04--  http://cicresearch.ca/IOTDataset/CIC-BCCC-NRC-TabularIoTAttacks-2024/Dataset/CIC-BCCC-NRC-IoMT-2024/Recon%20Vulnerability%20Scan.csv\n",
            "Resolving cicresearch.ca (cicresearch.ca)... 205.174.165.80\n",
            "Connecting to cicresearch.ca (cicresearch.ca)|205.174.165.80|:80... connected.\n",
            "HTTP request sent, awaiting response... 200 OK\n",
            "Length: 3795093 (3.6M) [text/csv]\n",
            "Saving to: ‘CIC-BCCC-NRC-IoMT-2024/Recon_Vulnerability_Scan.csv’\n",
            "\n",
            "CIC-BCCC-NRC-IoMT-2 100%[===================>]   3.62M  1006KB/s    in 3.9s    \n",
            "\n",
            "2025-04-09 09:40:09 (940 KB/s) - ‘CIC-BCCC-NRC-IoMT-2024/Recon_Vulnerability_Scan.csv’ saved [3795093/3795093]\n",
            "\n"
          ]
        }
      ],
      "source": [
        "!rm -rf CIC-BCCC-NRC-IoMT-2024/\n",
        "!mkdir CIC-BCCC-NRC-IoMT-2024\n",
        "!wget http://cicresearch.ca/IOTDataset/CIC-BCCC-NRC-TabularIoTAttacks-2024/Dataset/CIC-BCCC-NRC-IoMT-2024/Benign%20Traffic.csv -O CIC-BCCC-NRC-IoMT-2024/Benign_Traffic.csv\n",
        "!wget http://cicresearch.ca/IOTDataset/CIC-BCCC-NRC-TabularIoTAttacks-2024/Dataset/CIC-BCCC-NRC-IoMT-2024/DDoS%20ICMP%20Flood.csv -O CIC-BCCC-NRC-IoMT-2024/DDoS_ICMP_Flood.csv\n",
        "!wget http://cicresearch.ca/IOTDataset/CIC-BCCC-NRC-TabularIoTAttacks-2024/Dataset/CIC-BCCC-NRC-IoMT-2024/DDoS%20UDP%20Flood.csv -O CIC-BCCC-NRC-IoMT-2024/DDoS_UDP_Flood.csv\n",
        "!wget http://cicresearch.ca/IOTDataset/CIC-BCCC-NRC-TabularIoTAttacks-2024/Dataset/CIC-BCCC-NRC-IoMT-2024/DoS%20ICMP%20Flood.csv -O CIC-BCCC-NRC-IoMT-2024/DoS_ICMP_Flood.csv\n",
        "!wget http://cicresearch.ca/IOTDataset/CIC-BCCC-NRC-TabularIoTAttacks-2024/Dataset/CIC-BCCC-NRC-IoMT-2024/DoS%20UDP%20Flood.csv -O CIC-BCCC-NRC-IoMT-2024/DoS_UDP_Flood.csv\n",
        "!wget http://cicresearch.ca/IOTDataset/CIC-BCCC-NRC-TabularIoTAttacks-2024/Dataset/CIC-BCCC-NRC-IoMT-2024/DoS%20TCP%20Flood.csv -O CIC-BCCC-NRC-IoMT-2024/DoS_TCP_Flood.csv\n",
        "!wget http://cicresearch.ca/IOTDataset/CIC-BCCC-NRC-TabularIoTAttacks-2024/Dataset/CIC-BCCC-NRC-IoMT-2024/MITM%20ARP%20Spoofing.csv -O CIC-BCCC-NRC-IoMT-2024/MITM_ARP_Spoofing.csv\n",
        "!wget http://cicresearch.ca/IOTDataset/CIC-BCCC-NRC-TabularIoTAttacks-2024/Dataset/CIC-BCCC-NRC-IoMT-2024/MQTT%20DDoS%20Publish%20Flood.csv -O CIC-BCCC-NRC-IoMT-2024/MQTT_DDoS_Publish_Flood.csv\n",
        "!wget http://cicresearch.ca/IOTDataset/CIC-BCCC-NRC-TabularIoTAttacks-2024/Dataset/CIC-BCCC-NRC-IoMT-2024/MQTT%20DoS%20Connect%20Flood.csv -O CIC-BCCC-NRC-IoMT-2024/MQTT_DoS_Connect_Flood.csv\n",
        "!wget http://cicresearch.ca/IOTDataset/CIC-BCCC-NRC-TabularIoTAttacks-2024/Dataset/CIC-BCCC-NRC-IoMT-2024/MQTT%20DoS%20Publish%20Flood.csv -O CIC-BCCC-NRC-IoMT-2024/MQTT_DoS_Publish_Flood.csv\n",
        "!wget http://cicresearch.ca/IOTDataset/CIC-BCCC-NRC-TabularIoTAttacks-2024/Dataset/CIC-BCCC-NRC-IoMT-2024/MQTT%20Malformed.csv -O CIC-BCCC-NRC-IoMT-2024/MQTT_Malformed.csv\n",
        "!wget http://cicresearch.ca/IOTDataset/CIC-BCCC-NRC-TabularIoTAttacks-2024/Dataset/CIC-BCCC-NRC-IoMT-2024/Recon%20OS%20Scan.csv -O CIC-BCCC-NRC-IoMT-2024/Recon_OS_Scan.csv\n",
        "!wget http://cicresearch.ca/IOTDataset/CIC-BCCC-NRC-TabularIoTAttacks-2024/Dataset/CIC-BCCC-NRC-IoMT-2024/Recon%20Port%20Scan.csv -O CIC-BCCC-NRC-IoMT-2024/Recon_Port_Scan.csv\n",
        "!wget http://cicresearch.ca/IOTDataset/CIC-BCCC-NRC-TabularIoTAttacks-2024/Dataset/CIC-BCCC-NRC-IoMT-2024/Recon%20Ping%20Sweep.csv -O CIC-BCCC-NRC-IoMT-2024/Recon_Ping_Sweep.csv\n",
        "!wget http://cicresearch.ca/IOTDataset/CIC-BCCC-NRC-TabularIoTAttacks-2024/Dataset/CIC-BCCC-NRC-IoMT-2024/Recon%20Vulnerability%20Scan.csv -O CIC-BCCC-NRC-IoMT-2024/Recon_Vulnerability_Scan.csv"
      ]
    },
    {
      "cell_type": "code",
      "source": [
        "!ls CIC-BCCC-NRC-IoMT-2024/"
      ],
      "metadata": {
        "colab": {
          "base_uri": "https://localhost:8080/"
        },
        "id": "KR-R1-jT7L21",
        "outputId": "a8e71d2e-9066-434d-fb08-617880771085"
      },
      "execution_count": null,
      "outputs": [
        {
          "output_type": "stream",
          "name": "stdout",
          "text": [
            "Benign_Traffic.csv   DoS_UDP_Flood.csv\t\t  MQTT_Malformed.csv\n",
            "DDoS_ICMP_Flood.csv  MITM_ARP_Spoofing.csv\t  Recon_OS_Scan.csv\n",
            "DDoS_UDP_Flood.csv   MQTT_DDoS_Publish_Flood.csv  Recon_Ping_Sweep.csv\n",
            "DoS_ICMP_Flood.csv   MQTT_DoS_Connect_Flood.csv   Recon_Port_Scan.csv\n",
            "DoS_TCP_Flood.csv    MQTT_DoS_Publish_Flood.csv   Recon_Vulnerability_Scan.csv\n"
          ]
        }
      ]
    },
    {
      "cell_type": "code",
      "source": [
        "import pandas as pd\n",
        "import numpy as np\n",
        "import glob\n",
        "\n",
        "csv_files = glob.glob(\"CIC-BCCC-NRC-IoMT-2024/*.csv\")\n",
        "df_list = []\n",
        "for file in csv_files:\n",
        "    try:\n",
        "        df = pd.read_csv(file)\n",
        "        df_list.append(df)\n",
        "    except Exception as e:\n",
        "        print(f\"Error loading {file}: {e}\")\n",
        "\n",
        "data = pd.concat(df_list, axis=0, ignore_index=True)\n",
        "print(data.shape)"
      ],
      "metadata": {
        "colab": {
          "base_uri": "https://localhost:8080/"
        },
        "id": "VUZ2uP768ED5",
        "outputId": "49e861d3-8a42-4396-a8ed-ba3a92d8f022"
      },
      "execution_count": null,
      "outputs": [
        {
          "output_type": "stream",
          "name": "stdout",
          "text": [
            "(3385313, 85)\n"
          ]
        }
      ]
    },
    {
      "cell_type": "code",
      "source": [
        "columns_to_drop = ['Flow ID', 'Src IP', 'Dst IP', 'Timestamp', 'Attack Name']\n",
        "data = data.drop(columns=columns_to_drop, errors='ignore')\n",
        "data = data.sample(n=1_000_000, random_state=42)\n",
        "X = data.drop(\"Label\", axis=1)\n",
        "y = data[\"Label\"]"
      ],
      "metadata": {
        "id": "AiBXEY0y8U-t"
      },
      "execution_count": null,
      "outputs": []
    },
    {
      "cell_type": "code",
      "source": [
        "from sklearn.preprocessing import StandardScaler\n",
        "from sklearn.model_selection import train_test_split\n",
        "\n",
        "scaler = StandardScaler()\n",
        "X_scaled = scaler.fit_transform(X)\n",
        "X_train, X_test, y_train, y_test = train_test_split(X_scaled, y, test_size=0.2, random_state=42)\n",
        "print(\"Training set shape:\", X_train.shape)\n",
        "print(\"Test set shape:\", X_test.shape)"
      ],
      "metadata": {
        "colab": {
          "base_uri": "https://localhost:8080/"
        },
        "id": "qfpjhyNVBqGz",
        "outputId": "a1e59605-8780-4f8a-e7fc-0b150761f6ea"
      },
      "execution_count": null,
      "outputs": [
        {
          "output_type": "stream",
          "name": "stdout",
          "text": [
            "Training set shape: (800000, 79)\n",
            "Test set shape: (200000, 79)\n"
          ]
        }
      ]
    },
    {
      "cell_type": "code",
      "source": [
        "from sklearn.tree import DecisionTreeClassifier\n",
        "from sklearn.metrics import accuracy_score, classification_report\n",
        "\n",
        "dt_model = DecisionTreeClassifier(random_state=42)\n",
        "dt_model.fit(X_train, y_train)\n",
        "y_pred_dt = dt_model.predict(X_test)\n",
        "accuracy_dt = accuracy_score(y_test, y_pred_dt)\n",
        "print(\"Decision Tree Accuracy:\", accuracy_dt)\n",
        "print(classification_report(y_test, y_pred_dt))"
      ],
      "metadata": {
        "colab": {
          "base_uri": "https://localhost:8080/"
        },
        "id": "GOZAmfcv8_xp",
        "outputId": "0c4d5f40-ab0c-4487-d73a-eeb002f4551d"
      },
      "execution_count": null,
      "outputs": [
        {
          "output_type": "stream",
          "name": "stdout",
          "text": [
            "Decision Tree Accuracy: 0.99927\n",
            "              precision    recall  f1-score   support\n",
            "\n",
            "           0       0.96      0.96      0.96      1880\n",
            "           1       1.00      1.00      1.00    198120\n",
            "\n",
            "    accuracy                           1.00    200000\n",
            "   macro avg       0.98      0.98      0.98    200000\n",
            "weighted avg       1.00      1.00      1.00    200000\n",
            "\n"
          ]
        }
      ]
    },
    {
      "cell_type": "code",
      "source": [
        "from sklearn.naive_bayes import GaussianNB\n",
        "from sklearn.metrics import accuracy_score, classification_report\n",
        "\n",
        "nb_model = GaussianNB()\n",
        "nb_model.fit(X_train, y_train)\n",
        "y_pred_nb = nb_model.predict(X_test)\n",
        "accuracy_nb = accuracy_score(y_test, y_pred_nb)\n",
        "print(\"Naive Bayes Accuracy:\", accuracy_nb)\n",
        "print(classification_report(y_test, y_pred_nb))"
      ],
      "metadata": {
        "colab": {
          "base_uri": "https://localhost:8080/"
        },
        "id": "JOGtOBtP9eE_",
        "outputId": "8c2003dd-14ff-42aa-b07a-05900d84929f"
      },
      "execution_count": null,
      "outputs": [
        {
          "output_type": "stream",
          "name": "stdout",
          "text": [
            "Naive Bayes Accuracy: 0.717595\n",
            "              precision    recall  f1-score   support\n",
            "\n",
            "           0       0.03      0.98      0.06      1880\n",
            "           1       1.00      0.72      0.83    198120\n",
            "\n",
            "    accuracy                           0.72    200000\n",
            "   macro avg       0.52      0.85      0.45    200000\n",
            "weighted avg       0.99      0.72      0.83    200000\n",
            "\n"
          ]
        }
      ]
    },
    {
      "cell_type": "code",
      "source": [
        "from sklearn.model_selection import cross_val_score, StratifiedKFold\n",
        "from sklearn.pipeline import Pipeline\n",
        "from sklearn.preprocessing import FunctionTransformer\n",
        "log_transformer = FunctionTransformer(func=lambda x: np.log1p(np.abs(x)), validate=True)"
      ],
      "metadata": {
        "id": "LwDXPPY8CNeE"
      },
      "execution_count": null,
      "outputs": []
    },
    {
      "cell_type": "code",
      "source": [
        "pipeline = Pipeline([\n",
        "    (\"log\", log_transformer),\n",
        "    (\"scaler\", StandardScaler()),\n",
        "    (\"nb\", GaussianNB(var_smoothing=1e-9))\n",
        "])"
      ],
      "metadata": {
        "id": "Ch09tBdeC3Vt"
      },
      "execution_count": null,
      "outputs": []
    },
    {
      "cell_type": "code",
      "source": [
        "cv = StratifiedKFold(n_splits=5, shuffle=True, random_state=42)\n",
        "scores = cross_val_score(pipeline, X, y, cv=cv, scoring='accuracy')"
      ],
      "metadata": {
        "id": "ffaaY3zrC9Eo"
      },
      "execution_count": null,
      "outputs": []
    },
    {
      "cell_type": "code",
      "source": [
        "print(\"Cross-Validated Accuracy Scores:\", scores)\n",
        "print(\"Average CV Accuracy:\", np.mean(scores))"
      ],
      "metadata": {
        "colab": {
          "base_uri": "https://localhost:8080/"
        },
        "id": "ugj-7DveDQwP",
        "outputId": "fb03d702-14b4-4db2-e1f2-26dc7387c48e"
      },
      "execution_count": null,
      "outputs": [
        {
          "output_type": "stream",
          "name": "stdout",
          "text": [
            "Cross-Validated Accuracy Scores: [0.917895 0.91903  0.91825  0.917085 0.91483 ]\n",
            "Average CV Accuracy: 0.917418\n"
          ]
        }
      ]
    },
    {
      "cell_type": "code",
      "source": [
        "pipeline.fit(X_train, y_train)\n",
        "y_pred_nb_improved = pipeline.predict(X_test)\n",
        "\n",
        "print(\"\\nImproved Naive Bayes Accuracy:\", accuracy_score(y_test, y_pred_nb_improved))\n",
        "print(classification_report(y_test, y_pred_nb_improved))"
      ],
      "metadata": {
        "colab": {
          "base_uri": "https://localhost:8080/"
        },
        "id": "8DWFOiE9Di7h",
        "outputId": "d2b6dc31-25b8-4870-bdb6-32b58df32365"
      },
      "execution_count": null,
      "outputs": [
        {
          "output_type": "stream",
          "name": "stdout",
          "text": [
            "\n",
            "Improved Naive Bayes Accuracy: 0.95363\n",
            "              precision    recall  f1-score   support\n",
            "\n",
            "           0       0.16      0.96      0.28      1880\n",
            "           1       1.00      0.95      0.98    198120\n",
            "\n",
            "    accuracy                           0.95    200000\n",
            "   macro avg       0.58      0.96      0.63    200000\n",
            "weighted avg       0.99      0.95      0.97    200000\n",
            "\n"
          ]
        }
      ]
    },
    {
      "cell_type": "code",
      "source": [
        "from sklearn.linear_model import LogisticRegression\n",
        "\n",
        "logreg = LogisticRegression(max_iter=1000)\n",
        "logreg.fit(X_train, y_train)\n",
        "y_pred_lr = logreg.predict(X_test)\n",
        "\n",
        "print(\"Logistic Regression Accuracy:\", accuracy_score(y_test, y_pred_lr))\n",
        "print(classification_report(y_test, y_pred_lr))"
      ],
      "metadata": {
        "colab": {
          "base_uri": "https://localhost:8080/"
        },
        "id": "LU85rGYTGYMg",
        "outputId": "d7dab612-0d19-4a22-9209-b409bf92ac1a"
      },
      "execution_count": null,
      "outputs": [
        {
          "output_type": "stream",
          "name": "stdout",
          "text": [
            "Logistic Regression Accuracy: 0.99649\n",
            "              precision    recall  f1-score   support\n",
            "\n",
            "           0       0.78      0.88      0.83      1880\n",
            "           1       1.00      1.00      1.00    198120\n",
            "\n",
            "    accuracy                           1.00    200000\n",
            "   macro avg       0.89      0.94      0.91    200000\n",
            "weighted avg       1.00      1.00      1.00    200000\n",
            "\n"
          ]
        }
      ]
    }
  ]
}