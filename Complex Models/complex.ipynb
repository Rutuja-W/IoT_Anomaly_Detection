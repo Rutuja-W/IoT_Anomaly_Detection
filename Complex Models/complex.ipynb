{
  "nbformat": 4,
  "nbformat_minor": 0,
  "metadata": {
    "colab": {
      "provenance": []
    },
    "kernelspec": {
      "name": "python3",
      "display_name": "Python 3"
    },
    "language_info": {
      "name": "python"
    }
  },
  "cells": [
    {
      "cell_type": "markdown",
      "source": [
        "## Data Prep"
      ],
      "metadata": {
        "id": "jF1oPxh_dRiD"
      }
    },
    {
      "cell_type": "code",
      "source": [
        "!rm -rf CIC-BCCC-NRC-IoMT-2024/\n",
        "!mkdir CIC-BCCC-NRC-IoMT-2024\n",
        "!wget http://cicresearch.ca/IOTDataset/CIC-BCCC-NRC-TabularIoTAttacks-2024/Dataset/CIC-BCCC-NRC-IoMT-2024/Benign%20Traffic.csv -O CIC-BCCC-NRC-IoMT-2024/Benign_Traffic.csv\n",
        "!wget http://cicresearch.ca/IOTDataset/CIC-BCCC-NRC-TabularIoTAttacks-2024/Dataset/CIC-BCCC-NRC-IoMT-2024/DDoS%20ICMP%20Flood.csv -O CIC-BCCC-NRC-IoMT-2024/DDoS_ICMP_Flood.csv\n",
        "!wget http://cicresearch.ca/IOTDataset/CIC-BCCC-NRC-TabularIoTAttacks-2024/Dataset/CIC-BCCC-NRC-IoMT-2024/DDoS%20UDP%20Flood.csv -O CIC-BCCC-NRC-IoMT-2024/DDoS_UDP_Flood.csv\n",
        "!wget http://cicresearch.ca/IOTDataset/CIC-BCCC-NRC-TabularIoTAttacks-2024/Dataset/CIC-BCCC-NRC-IoMT-2024/DoS%20ICMP%20Flood.csv -O CIC-BCCC-NRC-IoMT-2024/DoS_ICMP_Flood.csv\n",
        "!wget http://cicresearch.ca/IOTDataset/CIC-BCCC-NRC-TabularIoTAttacks-2024/Dataset/CIC-BCCC-NRC-IoMT-2024/DoS%20UDP%20Flood.csv -O CIC-BCCC-NRC-IoMT-2024/DoS_UDP_Flood.csv\n",
        "!wget http://cicresearch.ca/IOTDataset/CIC-BCCC-NRC-TabularIoTAttacks-2024/Dataset/CIC-BCCC-NRC-IoMT-2024/DoS%20TCP%20Flood.csv -O CIC-BCCC-NRC-IoMT-2024/DoS_TCP_Flood.csv\n",
        "!wget http://cicresearch.ca/IOTDataset/CIC-BCCC-NRC-TabularIoTAttacks-2024/Dataset/CIC-BCCC-NRC-IoMT-2024/MITM%20ARP%20Spoofing.csv -O CIC-BCCC-NRC-IoMT-2024/MITM_ARP_Spoofing.csv\n",
        "!wget http://cicresearch.ca/IOTDataset/CIC-BCCC-NRC-TabularIoTAttacks-2024/Dataset/CIC-BCCC-NRC-IoMT-2024/MQTT%20DDoS%20Publish%20Flood.csv -O CIC-BCCC-NRC-IoMT-2024/MQTT_DDoS_Publish_Flood.csv\n",
        "!wget http://cicresearch.ca/IOTDataset/CIC-BCCC-NRC-TabularIoTAttacks-2024/Dataset/CIC-BCCC-NRC-IoMT-2024/MQTT%20DoS%20Connect%20Flood.csv -O CIC-BCCC-NRC-IoMT-2024/MQTT_DoS_Connect_Flood.csv\n",
        "!wget http://cicresearch.ca/IOTDataset/CIC-BCCC-NRC-TabularIoTAttacks-2024/Dataset/CIC-BCCC-NRC-IoMT-2024/MQTT%20DoS%20Publish%20Flood.csv -O CIC-BCCC-NRC-IoMT-2024/MQTT_DoS_Publish_Flood.csv\n",
        "!wget http://cicresearch.ca/IOTDataset/CIC-BCCC-NRC-TabularIoTAttacks-2024/Dataset/CIC-BCCC-NRC-IoMT-2024/MQTT%20Malformed.csv -O CIC-BCCC-NRC-IoMT-2024/MQTT_Malformed.csv\n",
        "!wget http://cicresearch.ca/IOTDataset/CIC-BCCC-NRC-TabularIoTAttacks-2024/Dataset/CIC-BCCC-NRC-IoMT-2024/Recon%20OS%20Scan.csv -O CIC-BCCC-NRC-IoMT-2024/Recon_OS_Scan.csv\n",
        "!wget http://cicresearch.ca/IOTDataset/CIC-BCCC-NRC-TabularIoTAttacks-2024/Dataset/CIC-BCCC-NRC-IoMT-2024/Recon%20Port%20Scan.csv -O CIC-BCCC-NRC-IoMT-2024/Recon_Port_Scan.csv\n",
        "!wget http://cicresearch.ca/IOTDataset/CIC-BCCC-NRC-TabularIoTAttacks-2024/Dataset/CIC-BCCC-NRC-IoMT-2024/Recon%20Ping%20Sweep.csv -O CIC-BCCC-NRC-IoMT-2024/Recon_Ping_Sweep.csv\n",
        "!wget http://cicresearch.ca/IOTDataset/CIC-BCCC-NRC-TabularIoTAttacks-2024/Dataset/CIC-BCCC-NRC-IoMT-2024/Recon%20Vulnerability%20Scan.csv -O CIC-BCCC-NRC-IoMT-2024/Recon_Vulnerability_Scan.csv"
      ],
      "metadata": {
        "colab": {
          "base_uri": "https://localhost:8080/"
        },
        "id": "QZ9Q_vkczPPs",
        "outputId": "9c39fb36-f0db-4d27-b73a-1d2dfdd3d337"
      },
      "execution_count": null,
      "outputs": [
        {
          "output_type": "stream",
          "name": "stdout",
          "text": [
            "--2025-04-09 20:13:51--  http://cicresearch.ca/IOTDataset/CIC-BCCC-NRC-TabularIoTAttacks-2024/Dataset/CIC-BCCC-NRC-IoMT-2024/Benign%20Traffic.csv\n",
            "Resolving cicresearch.ca (cicresearch.ca)... 205.174.165.80\n",
            "Connecting to cicresearch.ca (cicresearch.ca)|205.174.165.80|:80... connected.\n",
            "HTTP request sent, awaiting response... 200 OK\n",
            "Length: 22171291 (21M) [text/csv]\n",
            "Saving to: ‘CIC-BCCC-NRC-IoMT-2024/Benign_Traffic.csv’\n",
            "\n",
            "CIC-BCCC-NRC-IoMT-2 100%[===================>]  21.14M  8.24MB/s    in 2.6s    \n",
            "\n",
            "2025-04-09 20:13:54 (8.24 MB/s) - ‘CIC-BCCC-NRC-IoMT-2024/Benign_Traffic.csv’ saved [22171291/22171291]\n",
            "\n",
            "--2025-04-09 20:13:54--  http://cicresearch.ca/IOTDataset/CIC-BCCC-NRC-TabularIoTAttacks-2024/Dataset/CIC-BCCC-NRC-IoMT-2024/DDoS%20ICMP%20Flood.csv\n",
            "Resolving cicresearch.ca (cicresearch.ca)... 205.174.165.80\n",
            "Connecting to cicresearch.ca (cicresearch.ca)|205.174.165.80|:80... connected.\n",
            "HTTP request sent, awaiting response... 200 OK\n",
            "Length: 1708548 (1.6M) [text/csv]\n",
            "Saving to: ‘CIC-BCCC-NRC-IoMT-2024/DDoS_ICMP_Flood.csv’\n",
            "\n",
            "CIC-BCCC-NRC-IoMT-2 100%[===================>]   1.63M  2.67MB/s    in 0.6s    \n",
            "\n",
            "2025-04-09 20:13:55 (2.67 MB/s) - ‘CIC-BCCC-NRC-IoMT-2024/DDoS_ICMP_Flood.csv’ saved [1708548/1708548]\n",
            "\n",
            "--2025-04-09 20:13:55--  http://cicresearch.ca/IOTDataset/CIC-BCCC-NRC-TabularIoTAttacks-2024/Dataset/CIC-BCCC-NRC-IoMT-2024/DDoS%20UDP%20Flood.csv\n",
            "Resolving cicresearch.ca (cicresearch.ca)... 205.174.165.80\n",
            "Connecting to cicresearch.ca (cicresearch.ca)|205.174.165.80|:80... connected.\n",
            "HTTP request sent, awaiting response... 200 OK\n",
            "Length: 1682823 (1.6M) [text/csv]\n",
            "Saving to: ‘CIC-BCCC-NRC-IoMT-2024/DDoS_UDP_Flood.csv’\n",
            "\n",
            "CIC-BCCC-NRC-IoMT-2 100%[===================>]   1.60M  2.72MB/s    in 0.6s    \n",
            "\n",
            "2025-04-09 20:13:56 (2.72 MB/s) - ‘CIC-BCCC-NRC-IoMT-2024/DDoS_UDP_Flood.csv’ saved [1682823/1682823]\n",
            "\n",
            "--2025-04-09 20:13:56--  http://cicresearch.ca/IOTDataset/CIC-BCCC-NRC-TabularIoTAttacks-2024/Dataset/CIC-BCCC-NRC-IoMT-2024/DoS%20ICMP%20Flood.csv\n",
            "Resolving cicresearch.ca (cicresearch.ca)... 205.174.165.80\n",
            "Connecting to cicresearch.ca (cicresearch.ca)|205.174.165.80|:80... connected.\n",
            "HTTP request sent, awaiting response... 200 OK\n",
            "Length: 1429755 (1.4M) [text/csv]\n",
            "Saving to: ‘CIC-BCCC-NRC-IoMT-2024/DoS_ICMP_Flood.csv’\n",
            "\n",
            "CIC-BCCC-NRC-IoMT-2 100%[===================>]   1.36M  2.47MB/s    in 0.6s    \n",
            "\n",
            "2025-04-09 20:13:56 (2.47 MB/s) - ‘CIC-BCCC-NRC-IoMT-2024/DoS_ICMP_Flood.csv’ saved [1429755/1429755]\n",
            "\n",
            "--2025-04-09 20:13:56--  http://cicresearch.ca/IOTDataset/CIC-BCCC-NRC-TabularIoTAttacks-2024/Dataset/CIC-BCCC-NRC-IoMT-2024/DoS%20UDP%20Flood.csv\n",
            "Resolving cicresearch.ca (cicresearch.ca)... 205.174.165.80\n",
            "Connecting to cicresearch.ca (cicresearch.ca)|205.174.165.80|:80... connected.\n",
            "HTTP request sent, awaiting response... 200 OK\n",
            "Length: 2000932 (1.9M) [text/csv]\n",
            "Saving to: ‘CIC-BCCC-NRC-IoMT-2024/DoS_UDP_Flood.csv’\n",
            "\n",
            "CIC-BCCC-NRC-IoMT-2 100%[===================>]   1.91M  2.97MB/s    in 0.6s    \n",
            "\n",
            "2025-04-09 20:13:57 (2.97 MB/s) - ‘CIC-BCCC-NRC-IoMT-2024/DoS_UDP_Flood.csv’ saved [2000932/2000932]\n",
            "\n",
            "--2025-04-09 20:13:57--  http://cicresearch.ca/IOTDataset/CIC-BCCC-NRC-TabularIoTAttacks-2024/Dataset/CIC-BCCC-NRC-IoMT-2024/DoS%20TCP%20Flood.csv\n",
            "Resolving cicresearch.ca (cicresearch.ca)... 205.174.165.80\n",
            "Connecting to cicresearch.ca (cicresearch.ca)|205.174.165.80|:80... connected.\n",
            "HTTP request sent, awaiting response... 200 OK\n",
            "Length: 1105891250 (1.0G) [text/csv]\n",
            "Saving to: ‘CIC-BCCC-NRC-IoMT-2024/DoS_TCP_Flood.csv’\n",
            "\n",
            "CIC-BCCC-NRC-IoMT-2 100%[===================>]   1.03G  52.1MB/s    in 28s     \n",
            "\n",
            "2025-04-09 20:14:26 (37.2 MB/s) - ‘CIC-BCCC-NRC-IoMT-2024/DoS_TCP_Flood.csv’ saved [1105891250/1105891250]\n",
            "\n",
            "--2025-04-09 20:14:26--  http://cicresearch.ca/IOTDataset/CIC-BCCC-NRC-TabularIoTAttacks-2024/Dataset/CIC-BCCC-NRC-IoMT-2024/MITM%20ARP%20Spoofing.csv\n",
            "Resolving cicresearch.ca (cicresearch.ca)... 205.174.165.80\n",
            "Connecting to cicresearch.ca (cicresearch.ca)|205.174.165.80|:80... connected.\n",
            "HTTP request sent, awaiting response... 200 OK\n",
            "Length: 706211 (690K) [text/csv]\n",
            "Saving to: ‘CIC-BCCC-NRC-IoMT-2024/MITM_ARP_Spoofing.csv’\n",
            "\n",
            "CIC-BCCC-NRC-IoMT-2 100%[===================>] 689.66K  1.82MB/s    in 0.4s    \n",
            "\n",
            "2025-04-09 20:14:27 (1.82 MB/s) - ‘CIC-BCCC-NRC-IoMT-2024/MITM_ARP_Spoofing.csv’ saved [706211/706211]\n",
            "\n",
            "--2025-04-09 20:14:27--  http://cicresearch.ca/IOTDataset/CIC-BCCC-NRC-TabularIoTAttacks-2024/Dataset/CIC-BCCC-NRC-IoMT-2024/MQTT%20DDoS%20Publish%20Flood.csv\n",
            "Resolving cicresearch.ca (cicresearch.ca)... 205.174.165.80\n",
            "Connecting to cicresearch.ca (cicresearch.ca)|205.174.165.80|:80... connected.\n",
            "HTTP request sent, awaiting response... 200 OK\n",
            "Length: 200839754 (192M) [text/csv]\n",
            "Saving to: ‘CIC-BCCC-NRC-IoMT-2024/MQTT_DDoS_Publish_Flood.csv’\n",
            "\n",
            "CIC-BCCC-NRC-IoMT-2 100%[===================>] 191.54M  36.1MB/s    in 6.4s    \n",
            "\n",
            "2025-04-09 20:14:34 (29.8 MB/s) - ‘CIC-BCCC-NRC-IoMT-2024/MQTT_DDoS_Publish_Flood.csv’ saved [200839754/200839754]\n",
            "\n",
            "--2025-04-09 20:14:34--  http://cicresearch.ca/IOTDataset/CIC-BCCC-NRC-TabularIoTAttacks-2024/Dataset/CIC-BCCC-NRC-IoMT-2024/MQTT%20DoS%20Connect%20Flood.csv\n",
            "Resolving cicresearch.ca (cicresearch.ca)... 205.174.165.80\n",
            "Connecting to cicresearch.ca (cicresearch.ca)|205.174.165.80|:80... connected.\n",
            "HTTP request sent, awaiting response... 200 OK\n",
            "Length: 142362942 (136M) [text/csv]\n",
            "Saving to: ‘CIC-BCCC-NRC-IoMT-2024/MQTT_DoS_Connect_Flood.csv’\n",
            "\n",
            "CIC-BCCC-NRC-IoMT-2 100%[===================>] 135.77M  38.3MB/s    in 4.6s    \n",
            "\n",
            "2025-04-09 20:14:39 (29.2 MB/s) - ‘CIC-BCCC-NRC-IoMT-2024/MQTT_DoS_Connect_Flood.csv’ saved [142362942/142362942]\n",
            "\n",
            "--2025-04-09 20:14:39--  http://cicresearch.ca/IOTDataset/CIC-BCCC-NRC-TabularIoTAttacks-2024/Dataset/CIC-BCCC-NRC-IoMT-2024/MQTT%20DoS%20Publish%20Flood.csv\n",
            "Resolving cicresearch.ca (cicresearch.ca)... 205.174.165.80\n",
            "Connecting to cicresearch.ca (cicresearch.ca)|205.174.165.80|:80... connected.\n",
            "HTTP request sent, awaiting response... 200 OK\n",
            "Length: 703288 (687K) [text/csv]\n",
            "Saving to: ‘CIC-BCCC-NRC-IoMT-2024/MQTT_DoS_Publish_Flood.csv’\n",
            "\n",
            "CIC-BCCC-NRC-IoMT-2 100%[===================>] 686.80K  1.85MB/s    in 0.4s    \n",
            "\n",
            "2025-04-09 20:14:39 (1.85 MB/s) - ‘CIC-BCCC-NRC-IoMT-2024/MQTT_DoS_Publish_Flood.csv’ saved [703288/703288]\n",
            "\n",
            "--2025-04-09 20:14:39--  http://cicresearch.ca/IOTDataset/CIC-BCCC-NRC-TabularIoTAttacks-2024/Dataset/CIC-BCCC-NRC-IoMT-2024/MQTT%20Malformed.csv\n",
            "Resolving cicresearch.ca (cicresearch.ca)... 205.174.165.80\n",
            "Connecting to cicresearch.ca (cicresearch.ca)|205.174.165.80|:80... connected.\n",
            "HTTP request sent, awaiting response... 200 OK\n",
            "Length: 1257861 (1.2M) [text/csv]\n",
            "Saving to: ‘CIC-BCCC-NRC-IoMT-2024/MQTT_Malformed.csv’\n",
            "\n",
            "CIC-BCCC-NRC-IoMT-2 100%[===================>]   1.20M  2.49MB/s    in 0.5s    \n",
            "\n",
            "2025-04-09 20:14:40 (2.49 MB/s) - ‘CIC-BCCC-NRC-IoMT-2024/MQTT_Malformed.csv’ saved [1257861/1257861]\n",
            "\n",
            "--2025-04-09 20:14:40--  http://cicresearch.ca/IOTDataset/CIC-BCCC-NRC-TabularIoTAttacks-2024/Dataset/CIC-BCCC-NRC-IoMT-2024/Recon%20OS%20Scan.csv\n",
            "Resolving cicresearch.ca (cicresearch.ca)... 205.174.165.80\n",
            "Connecting to cicresearch.ca (cicresearch.ca)|205.174.165.80|:80... connected.\n",
            "HTTP request sent, awaiting response... 200 OK\n",
            "Length: 37478432 (36M) [text/csv]\n",
            "Saving to: ‘CIC-BCCC-NRC-IoMT-2024/Recon_OS_Scan.csv’\n",
            "\n",
            "CIC-BCCC-NRC-IoMT-2 100%[===================>]  35.74M  17.4MB/s    in 2.1s    \n",
            "\n",
            "2025-04-09 20:14:42 (17.4 MB/s) - ‘CIC-BCCC-NRC-IoMT-2024/Recon_OS_Scan.csv’ saved [37478432/37478432]\n",
            "\n",
            "--2025-04-09 20:14:42--  http://cicresearch.ca/IOTDataset/CIC-BCCC-NRC-TabularIoTAttacks-2024/Dataset/CIC-BCCC-NRC-IoMT-2024/Recon%20Port%20Scan.csv\n",
            "Resolving cicresearch.ca (cicresearch.ca)... 205.174.165.80\n",
            "Connecting to cicresearch.ca (cicresearch.ca)|205.174.165.80|:80... connected.\n",
            "HTTP request sent, awaiting response... 200 OK\n",
            "Length: 214024065 (204M) [text/csv]\n",
            "Saving to: ‘CIC-BCCC-NRC-IoMT-2024/Recon_Port_Scan.csv’\n",
            "\n",
            "CIC-BCCC-NRC-IoMT-2 100%[===================>] 204.11M  41.4MB/s    in 6.5s    \n",
            "\n",
            "2025-04-09 20:14:49 (31.5 MB/s) - ‘CIC-BCCC-NRC-IoMT-2024/Recon_Port_Scan.csv’ saved [214024065/214024065]\n",
            "\n",
            "--2025-04-09 20:14:49--  http://cicresearch.ca/IOTDataset/CIC-BCCC-NRC-TabularIoTAttacks-2024/Dataset/CIC-BCCC-NRC-IoMT-2024/Recon%20Ping%20Sweep.csv\n",
            "Resolving cicresearch.ca (cicresearch.ca)... 205.174.165.80\n",
            "Connecting to cicresearch.ca (cicresearch.ca)|205.174.165.80|:80... connected.\n",
            "HTTP request sent, awaiting response... 200 OK\n",
            "Length: 48034 (47K) [text/csv]\n",
            "Saving to: ‘CIC-BCCC-NRC-IoMT-2024/Recon_Ping_Sweep.csv’\n",
            "\n",
            "CIC-BCCC-NRC-IoMT-2 100%[===================>]  46.91K  --.-KB/s    in 0.06s   \n",
            "\n",
            "2025-04-09 20:14:50 (833 KB/s) - ‘CIC-BCCC-NRC-IoMT-2024/Recon_Ping_Sweep.csv’ saved [48034/48034]\n",
            "\n",
            "--2025-04-09 20:14:50--  http://cicresearch.ca/IOTDataset/CIC-BCCC-NRC-TabularIoTAttacks-2024/Dataset/CIC-BCCC-NRC-IoMT-2024/Recon%20Vulnerability%20Scan.csv\n",
            "Resolving cicresearch.ca (cicresearch.ca)... 205.174.165.80\n",
            "Connecting to cicresearch.ca (cicresearch.ca)|205.174.165.80|:80... connected.\n",
            "HTTP request sent, awaiting response... 200 OK\n",
            "Length: 3795093 (3.6M) [text/csv]\n",
            "Saving to: ‘CIC-BCCC-NRC-IoMT-2024/Recon_Vulnerability_Scan.csv’\n",
            "\n",
            "CIC-BCCC-NRC-IoMT-2 100%[===================>]   3.62M  4.19MB/s    in 0.9s    \n",
            "\n",
            "2025-04-09 20:14:51 (4.19 MB/s) - ‘CIC-BCCC-NRC-IoMT-2024/Recon_Vulnerability_Scan.csv’ saved [3795093/3795093]\n",
            "\n"
          ]
        }
      ]
    },
    {
      "cell_type": "code",
      "source": [
        "!ls CIC-BCCC-NRC-IoMT-2024/"
      ],
      "metadata": {
        "colab": {
          "base_uri": "https://localhost:8080/"
        },
        "id": "5cYWd53NzZbN",
        "outputId": "cb3eaa03-fcd9-4db2-d4b0-5e9998576e31"
      },
      "execution_count": null,
      "outputs": [
        {
          "output_type": "stream",
          "name": "stdout",
          "text": [
            "Benign_Traffic.csv   DoS_UDP_Flood.csv\t\t  MQTT_Malformed.csv\n",
            "DDoS_ICMP_Flood.csv  MITM_ARP_Spoofing.csv\t  Recon_OS_Scan.csv\n",
            "DDoS_UDP_Flood.csv   MQTT_DDoS_Publish_Flood.csv  Recon_Ping_Sweep.csv\n",
            "DoS_ICMP_Flood.csv   MQTT_DoS_Connect_Flood.csv   Recon_Port_Scan.csv\n",
            "DoS_TCP_Flood.csv    MQTT_DoS_Publish_Flood.csv   Recon_Vulnerability_Scan.csv\n"
          ]
        }
      ]
    },
    {
      "cell_type": "code",
      "source": [
        "import pandas as pd\n",
        "import numpy as np\n",
        "import glob\n",
        "\n",
        "csv_files = glob.glob(\"CIC-BCCC-NRC-IoMT-2024/*.csv\")\n",
        "df_list = []\n",
        "for file in csv_files:\n",
        "    try:\n",
        "        df = pd.read_csv(file)\n",
        "        df_list.append(df)\n",
        "    except Exception as e:\n",
        "        print(f\"Error loading {file}: {e}\")\n",
        "\n",
        "data = pd.concat(df_list, axis=0, ignore_index=True)\n",
        "print(data.shape)"
      ],
      "metadata": {
        "colab": {
          "base_uri": "https://localhost:8080/"
        },
        "id": "qXA86MoNCGPv",
        "outputId": "1892a62b-5e2b-4627-ca20-64d807052383"
      },
      "execution_count": null,
      "outputs": [
        {
          "output_type": "stream",
          "name": "stdout",
          "text": [
            "(3385313, 85)\n"
          ]
        }
      ]
    },
    {
      "cell_type": "code",
      "source": [
        "columns_to_drop = ['Flow ID', 'Src IP', 'Dst IP', 'Timestamp', 'Attack Name']\n",
        "data = data.drop(columns=columns_to_drop, errors='ignore')\n",
        "data = data.sample(n=1_000_000, random_state=42)\n",
        "X = data.drop(\"Label\", axis=1)\n",
        "y = data[\"Label\"]"
      ],
      "metadata": {
        "id": "lbzmUrl3D47c"
      },
      "execution_count": null,
      "outputs": []
    },
    {
      "cell_type": "code",
      "source": [
        "from sklearn.preprocessing import StandardScaler\n",
        "from sklearn.model_selection import train_test_split\n",
        "\n",
        "scaler = StandardScaler()\n",
        "X_scaled = scaler.fit_transform(X)\n",
        "X_cnn = X_scaled.reshape(X_scaled.shape[0], X_scaled.shape[1], 1)\n",
        "X_train, X_test, y_train, y_test = train_test_split(X_cnn, y, test_size=0.2, random_state=42)\n",
        "print(\"Training set shape:\", X_train.shape)\n",
        "print(\"Test set shape:\", X_test.shape)"
      ],
      "metadata": {
        "colab": {
          "base_uri": "https://localhost:8080/"
        },
        "id": "ocdvjdCvdxH4",
        "outputId": "09496a47-88d7-4ce8-fc9d-8694e78cac63"
      },
      "execution_count": null,
      "outputs": [
        {
          "output_type": "stream",
          "name": "stdout",
          "text": [
            "Training set shape: (800000, 79, 1)\n",
            "Test set shape: (200000, 79, 1)\n"
          ]
        }
      ]
    },
    {
      "cell_type": "markdown",
      "source": [
        "## CNN - 19m 41s"
      ],
      "metadata": {
        "id": "-6Fi0EWvdMDK"
      }
    },
    {
      "cell_type": "code",
      "source": [
        "import tensorflow as tf\n",
        "from tensorflow.keras.models import Sequential\n",
        "from tensorflow.keras.layers import Conv1D, MaxPooling1D, Flatten, Dense, Dropout\n",
        "\n",
        "input_shape = (X_train.shape[1], 1)\n",
        "model = Sequential([\n",
        "    Conv1D(filters=32, kernel_size=3, activation='relu', input_shape=input_shape),\n",
        "    MaxPooling1D(pool_size=2),\n",
        "    Conv1D(filters=64, kernel_size=3, activation='relu'),\n",
        "    MaxPooling1D(pool_size=2),\n",
        "    Flatten(),\n",
        "    Dense(64, activation='relu'),\n",
        "    Dropout(0.5),\n",
        "    Dense(1, activation='sigmoid')\n",
        "])\n",
        "model.compile(optimizer='adam', loss='binary_crossentropy', metrics=['accuracy'])\n",
        "model.summary()\n",
        "history = model.fit(X_train, y_train, epochs=10, batch_size=256, validation_split=0.2)\n",
        "loss, accuracy = model.evaluate(X_test, y_test)\n",
        "y_prob = model.predict(X_test)\n",
        "y_pred = (y_prob > 0.5).astype(int).reshape(-1)\n",
        "print(\"Test Loss:\", loss)\n",
        "print(\"Test Accuracy:\", accuracy)\n",
        "print(classification_report(y_test, y_pred))"
      ],
      "metadata": {
        "colab": {
          "base_uri": "https://localhost:8080/",
          "height": 1000
        },
        "id": "7kAZdnV9EWZH",
        "outputId": "7f1f5a03-5555-4f7c-91c1-4b09c8cbaed7"
      },
      "execution_count": null,
      "outputs": [
        {
          "output_type": "stream",
          "name": "stderr",
          "text": [
            "/usr/local/lib/python3.11/dist-packages/keras/src/layers/convolutional/base_conv.py:107: UserWarning: Do not pass an `input_shape`/`input_dim` argument to a layer. When using Sequential models, prefer using an `Input(shape)` object as the first layer in the model instead.\n",
            "  super().__init__(activity_regularizer=activity_regularizer, **kwargs)\n"
          ]
        },
        {
          "output_type": "display_data",
          "data": {
            "text/plain": [
              "\u001b[1mModel: \"sequential\"\u001b[0m\n"
            ],
            "text/html": [
              "<pre style=\"white-space:pre;overflow-x:auto;line-height:normal;font-family:Menlo,'DejaVu Sans Mono',consolas,'Courier New',monospace\"><span style=\"font-weight: bold\">Model: \"sequential\"</span>\n",
              "</pre>\n"
            ]
          },
          "metadata": {}
        },
        {
          "output_type": "display_data",
          "data": {
            "text/plain": [
              "┏━━━━━━━━━━━━━━━━━━━━━━━━━━━━━━━━━━━━━━┳━━━━━━━━━━━━━━━━━━━━━━━━━━━━━┳━━━━━━━━━━━━━━━━━┓\n",
              "┃\u001b[1m \u001b[0m\u001b[1mLayer (type)                        \u001b[0m\u001b[1m \u001b[0m┃\u001b[1m \u001b[0m\u001b[1mOutput Shape               \u001b[0m\u001b[1m \u001b[0m┃\u001b[1m \u001b[0m\u001b[1m        Param #\u001b[0m\u001b[1m \u001b[0m┃\n",
              "┡━━━━━━━━━━━━━━━━━━━━━━━━━━━━━━━━━━━━━━╇━━━━━━━━━━━━━━━━━━━━━━━━━━━━━╇━━━━━━━━━━━━━━━━━┩\n",
              "│ conv1d (\u001b[38;5;33mConv1D\u001b[0m)                      │ (\u001b[38;5;45mNone\u001b[0m, \u001b[38;5;34m77\u001b[0m, \u001b[38;5;34m32\u001b[0m)              │             \u001b[38;5;34m128\u001b[0m │\n",
              "├──────────────────────────────────────┼─────────────────────────────┼─────────────────┤\n",
              "│ max_pooling1d (\u001b[38;5;33mMaxPooling1D\u001b[0m)         │ (\u001b[38;5;45mNone\u001b[0m, \u001b[38;5;34m38\u001b[0m, \u001b[38;5;34m32\u001b[0m)              │               \u001b[38;5;34m0\u001b[0m │\n",
              "├──────────────────────────────────────┼─────────────────────────────┼─────────────────┤\n",
              "│ conv1d_1 (\u001b[38;5;33mConv1D\u001b[0m)                    │ (\u001b[38;5;45mNone\u001b[0m, \u001b[38;5;34m36\u001b[0m, \u001b[38;5;34m64\u001b[0m)              │           \u001b[38;5;34m6,208\u001b[0m │\n",
              "├──────────────────────────────────────┼─────────────────────────────┼─────────────────┤\n",
              "│ max_pooling1d_1 (\u001b[38;5;33mMaxPooling1D\u001b[0m)       │ (\u001b[38;5;45mNone\u001b[0m, \u001b[38;5;34m18\u001b[0m, \u001b[38;5;34m64\u001b[0m)              │               \u001b[38;5;34m0\u001b[0m │\n",
              "├──────────────────────────────────────┼─────────────────────────────┼─────────────────┤\n",
              "│ flatten (\u001b[38;5;33mFlatten\u001b[0m)                    │ (\u001b[38;5;45mNone\u001b[0m, \u001b[38;5;34m1152\u001b[0m)                │               \u001b[38;5;34m0\u001b[0m │\n",
              "├──────────────────────────────────────┼─────────────────────────────┼─────────────────┤\n",
              "│ dense (\u001b[38;5;33mDense\u001b[0m)                        │ (\u001b[38;5;45mNone\u001b[0m, \u001b[38;5;34m64\u001b[0m)                  │          \u001b[38;5;34m73,792\u001b[0m │\n",
              "├──────────────────────────────────────┼─────────────────────────────┼─────────────────┤\n",
              "│ dropout (\u001b[38;5;33mDropout\u001b[0m)                    │ (\u001b[38;5;45mNone\u001b[0m, \u001b[38;5;34m64\u001b[0m)                  │               \u001b[38;5;34m0\u001b[0m │\n",
              "├──────────────────────────────────────┼─────────────────────────────┼─────────────────┤\n",
              "│ dense_1 (\u001b[38;5;33mDense\u001b[0m)                      │ (\u001b[38;5;45mNone\u001b[0m, \u001b[38;5;34m1\u001b[0m)                   │              \u001b[38;5;34m65\u001b[0m │\n",
              "└──────────────────────────────────────┴─────────────────────────────┴─────────────────┘\n"
            ],
            "text/html": [
              "<pre style=\"white-space:pre;overflow-x:auto;line-height:normal;font-family:Menlo,'DejaVu Sans Mono',consolas,'Courier New',monospace\">┏━━━━━━━━━━━━━━━━━━━━━━━━━━━━━━━━━━━━━━┳━━━━━━━━━━━━━━━━━━━━━━━━━━━━━┳━━━━━━━━━━━━━━━━━┓\n",
              "┃<span style=\"font-weight: bold\"> Layer (type)                         </span>┃<span style=\"font-weight: bold\"> Output Shape                </span>┃<span style=\"font-weight: bold\">         Param # </span>┃\n",
              "┡━━━━━━━━━━━━━━━━━━━━━━━━━━━━━━━━━━━━━━╇━━━━━━━━━━━━━━━━━━━━━━━━━━━━━╇━━━━━━━━━━━━━━━━━┩\n",
              "│ conv1d (<span style=\"color: #0087ff; text-decoration-color: #0087ff\">Conv1D</span>)                      │ (<span style=\"color: #00d7ff; text-decoration-color: #00d7ff\">None</span>, <span style=\"color: #00af00; text-decoration-color: #00af00\">77</span>, <span style=\"color: #00af00; text-decoration-color: #00af00\">32</span>)              │             <span style=\"color: #00af00; text-decoration-color: #00af00\">128</span> │\n",
              "├──────────────────────────────────────┼─────────────────────────────┼─────────────────┤\n",
              "│ max_pooling1d (<span style=\"color: #0087ff; text-decoration-color: #0087ff\">MaxPooling1D</span>)         │ (<span style=\"color: #00d7ff; text-decoration-color: #00d7ff\">None</span>, <span style=\"color: #00af00; text-decoration-color: #00af00\">38</span>, <span style=\"color: #00af00; text-decoration-color: #00af00\">32</span>)              │               <span style=\"color: #00af00; text-decoration-color: #00af00\">0</span> │\n",
              "├──────────────────────────────────────┼─────────────────────────────┼─────────────────┤\n",
              "│ conv1d_1 (<span style=\"color: #0087ff; text-decoration-color: #0087ff\">Conv1D</span>)                    │ (<span style=\"color: #00d7ff; text-decoration-color: #00d7ff\">None</span>, <span style=\"color: #00af00; text-decoration-color: #00af00\">36</span>, <span style=\"color: #00af00; text-decoration-color: #00af00\">64</span>)              │           <span style=\"color: #00af00; text-decoration-color: #00af00\">6,208</span> │\n",
              "├──────────────────────────────────────┼─────────────────────────────┼─────────────────┤\n",
              "│ max_pooling1d_1 (<span style=\"color: #0087ff; text-decoration-color: #0087ff\">MaxPooling1D</span>)       │ (<span style=\"color: #00d7ff; text-decoration-color: #00d7ff\">None</span>, <span style=\"color: #00af00; text-decoration-color: #00af00\">18</span>, <span style=\"color: #00af00; text-decoration-color: #00af00\">64</span>)              │               <span style=\"color: #00af00; text-decoration-color: #00af00\">0</span> │\n",
              "├──────────────────────────────────────┼─────────────────────────────┼─────────────────┤\n",
              "│ flatten (<span style=\"color: #0087ff; text-decoration-color: #0087ff\">Flatten</span>)                    │ (<span style=\"color: #00d7ff; text-decoration-color: #00d7ff\">None</span>, <span style=\"color: #00af00; text-decoration-color: #00af00\">1152</span>)                │               <span style=\"color: #00af00; text-decoration-color: #00af00\">0</span> │\n",
              "├──────────────────────────────────────┼─────────────────────────────┼─────────────────┤\n",
              "│ dense (<span style=\"color: #0087ff; text-decoration-color: #0087ff\">Dense</span>)                        │ (<span style=\"color: #00d7ff; text-decoration-color: #00d7ff\">None</span>, <span style=\"color: #00af00; text-decoration-color: #00af00\">64</span>)                  │          <span style=\"color: #00af00; text-decoration-color: #00af00\">73,792</span> │\n",
              "├──────────────────────────────────────┼─────────────────────────────┼─────────────────┤\n",
              "│ dropout (<span style=\"color: #0087ff; text-decoration-color: #0087ff\">Dropout</span>)                    │ (<span style=\"color: #00d7ff; text-decoration-color: #00d7ff\">None</span>, <span style=\"color: #00af00; text-decoration-color: #00af00\">64</span>)                  │               <span style=\"color: #00af00; text-decoration-color: #00af00\">0</span> │\n",
              "├──────────────────────────────────────┼─────────────────────────────┼─────────────────┤\n",
              "│ dense_1 (<span style=\"color: #0087ff; text-decoration-color: #0087ff\">Dense</span>)                      │ (<span style=\"color: #00d7ff; text-decoration-color: #00d7ff\">None</span>, <span style=\"color: #00af00; text-decoration-color: #00af00\">1</span>)                   │              <span style=\"color: #00af00; text-decoration-color: #00af00\">65</span> │\n",
              "└──────────────────────────────────────┴─────────────────────────────┴─────────────────┘\n",
              "</pre>\n"
            ]
          },
          "metadata": {}
        },
        {
          "output_type": "display_data",
          "data": {
            "text/plain": [
              "\u001b[1m Total params: \u001b[0m\u001b[38;5;34m80,193\u001b[0m (313.25 KB)\n"
            ],
            "text/html": [
              "<pre style=\"white-space:pre;overflow-x:auto;line-height:normal;font-family:Menlo,'DejaVu Sans Mono',consolas,'Courier New',monospace\"><span style=\"font-weight: bold\"> Total params: </span><span style=\"color: #00af00; text-decoration-color: #00af00\">80,193</span> (313.25 KB)\n",
              "</pre>\n"
            ]
          },
          "metadata": {}
        },
        {
          "output_type": "display_data",
          "data": {
            "text/plain": [
              "\u001b[1m Trainable params: \u001b[0m\u001b[38;5;34m80,193\u001b[0m (313.25 KB)\n"
            ],
            "text/html": [
              "<pre style=\"white-space:pre;overflow-x:auto;line-height:normal;font-family:Menlo,'DejaVu Sans Mono',consolas,'Courier New',monospace\"><span style=\"font-weight: bold\"> Trainable params: </span><span style=\"color: #00af00; text-decoration-color: #00af00\">80,193</span> (313.25 KB)\n",
              "</pre>\n"
            ]
          },
          "metadata": {}
        },
        {
          "output_type": "display_data",
          "data": {
            "text/plain": [
              "\u001b[1m Non-trainable params: \u001b[0m\u001b[38;5;34m0\u001b[0m (0.00 B)\n"
            ],
            "text/html": [
              "<pre style=\"white-space:pre;overflow-x:auto;line-height:normal;font-family:Menlo,'DejaVu Sans Mono',consolas,'Courier New',monospace\"><span style=\"font-weight: bold\"> Non-trainable params: </span><span style=\"color: #00af00; text-decoration-color: #00af00\">0</span> (0.00 B)\n",
              "</pre>\n"
            ]
          },
          "metadata": {}
        },
        {
          "output_type": "stream",
          "name": "stdout",
          "text": [
            "Epoch 1/10\n",
            "\u001b[1m2500/2500\u001b[0m \u001b[32m━━━━━━━━━━━━━━━━━━━━\u001b[0m\u001b[37m\u001b[0m \u001b[1m84s\u001b[0m 33ms/step - accuracy: 0.9928 - loss: 0.0276 - val_accuracy: 0.9967 - val_loss: 0.0085\n",
            "Epoch 2/10\n",
            "\u001b[1m2500/2500\u001b[0m \u001b[32m━━━━━━━━━━━━━━━━━━━━\u001b[0m\u001b[37m\u001b[0m \u001b[1m142s\u001b[0m 33ms/step - accuracy: 0.9963 - loss: 0.0093 - val_accuracy: 0.9970 - val_loss: 0.0076\n",
            "Epoch 3/10\n",
            "\u001b[1m2500/2500\u001b[0m \u001b[32m━━━━━━━━━━━━━━━━━━━━\u001b[0m\u001b[37m\u001b[0m \u001b[1m142s\u001b[0m 33ms/step - accuracy: 0.9965 - loss: 0.0088 - val_accuracy: 0.9965 - val_loss: 0.0077\n",
            "Epoch 4/10\n",
            "\u001b[1m2500/2500\u001b[0m \u001b[32m━━━━━━━━━━━━━━━━━━━━\u001b[0m\u001b[37m\u001b[0m \u001b[1m146s\u001b[0m 34ms/step - accuracy: 0.9967 - loss: 0.0078 - val_accuracy: 0.9970 - val_loss: 0.0072\n",
            "Epoch 5/10\n",
            "\u001b[1m2500/2500\u001b[0m \u001b[32m━━━━━━━━━━━━━━━━━━━━\u001b[0m\u001b[37m\u001b[0m \u001b[1m141s\u001b[0m 34ms/step - accuracy: 0.9968 - loss: 0.0080 - val_accuracy: 0.9970 - val_loss: 0.0073\n",
            "Epoch 6/10\n",
            "\u001b[1m2500/2500\u001b[0m \u001b[32m━━━━━━━━━━━━━━━━━━━━\u001b[0m\u001b[37m\u001b[0m \u001b[1m138s\u001b[0m 33ms/step - accuracy: 0.9967 - loss: 0.0080 - val_accuracy: 0.9972 - val_loss: 0.0072\n",
            "Epoch 7/10\n",
            "\u001b[1m2500/2500\u001b[0m \u001b[32m━━━━━━━━━━━━━━━━━━━━\u001b[0m\u001b[37m\u001b[0m \u001b[1m86s\u001b[0m 34ms/step - accuracy: 0.9970 - loss: 0.0072 - val_accuracy: 0.9971 - val_loss: 0.0069\n",
            "Epoch 8/10\n",
            "\u001b[1m2500/2500\u001b[0m \u001b[32m━━━━━━━━━━━━━━━━━━━━\u001b[0m\u001b[37m\u001b[0m \u001b[1m81s\u001b[0m 32ms/step - accuracy: 0.9970 - loss: 0.0073 - val_accuracy: 0.9972 - val_loss: 0.0071\n",
            "Epoch 9/10\n",
            "\u001b[1m2500/2500\u001b[0m \u001b[32m━━━━━━━━━━━━━━━━━━━━\u001b[0m\u001b[37m\u001b[0m \u001b[1m82s\u001b[0m 32ms/step - accuracy: 0.9968 - loss: 0.0077 - val_accuracy: 0.9972 - val_loss: 0.0070\n",
            "Epoch 10/10\n",
            "\u001b[1m2500/2500\u001b[0m \u001b[32m━━━━━━━━━━━━━━━━━━━━\u001b[0m\u001b[37m\u001b[0m \u001b[1m83s\u001b[0m 33ms/step - accuracy: 0.9968 - loss: 0.0075 - val_accuracy: 0.9971 - val_loss: 0.0070\n",
            "\u001b[1m6250/6250\u001b[0m \u001b[32m━━━━━━━━━━━━━━━━━━━━\u001b[0m\u001b[37m\u001b[0m \u001b[1m20s\u001b[0m 3ms/step - accuracy: 0.9970 - loss: 0.0073\n",
            "\u001b[1m6250/6250\u001b[0m \u001b[32m━━━━━━━━━━━━━━━━━━━━\u001b[0m\u001b[37m\u001b[0m \u001b[1m16s\u001b[0m 2ms/step\n",
            "Test Loss: 0.008042041212320328\n",
            "Test Accuracy: 0.996969997882843\n",
            "              precision    recall  f1-score   support\n",
            "\n",
            "           0       0.77      0.96      0.86      1880\n",
            "           1       1.00      1.00      1.00    198120\n",
            "\n",
            "    accuracy                           1.00    200000\n",
            "   macro avg       0.89      0.98      0.93    200000\n",
            "weighted avg       1.00      1.00      1.00    200000\n",
            "\n"
          ]
        }
      ]
    },
    {
      "cell_type": "markdown",
      "source": [
        "## 2D Models - Reshape"
      ],
      "metadata": {
        "id": "v3wigxmgfAa3"
      }
    },
    {
      "cell_type": "code",
      "source": [
        "X_train, X_test, y_train, y_test = train_test_split(X_scaled, y, test_size=0.2, random_state=42)\n",
        "print(\"Training set shape:\", X_train.shape)\n",
        "print(\"Test set shape:\", X_test.shape)"
      ],
      "metadata": {
        "colab": {
          "base_uri": "https://localhost:8080/"
        },
        "id": "uCEssR87fDo5",
        "outputId": "150ef42d-f8ad-4c61-e07f-f9de33c21361"
      },
      "execution_count": null,
      "outputs": [
        {
          "output_type": "stream",
          "name": "stdout",
          "text": [
            "Training set shape: (800000, 79)\n",
            "Test set shape: (200000, 79)\n"
          ]
        }
      ]
    },
    {
      "cell_type": "markdown",
      "source": [
        "## SVM - Extreamly Long Runtime 20m 40s"
      ],
      "metadata": {
        "id": "_24UVyWWeCvn"
      }
    },
    {
      "cell_type": "code",
      "source": [
        "from sklearn.svm import SVC\n",
        "from sklearn.metrics import accuracy_score, classification_report\n",
        "\n",
        "svm_model = SVC(C=1.0, cache_size=1500, verbose=True)\n",
        "svm_model.fit(X_train, y_train)\n",
        "y_pred_svm = svm_model.predict(X_test)\n",
        "accuracy_svm = accuracy_score(y_test, y_pred_svm)\n",
        "print(\"SVM Accuracy:\", accuracy_svm)\n",
        "print(classification_report(y_test, y_pred_svm))"
      ],
      "metadata": {
        "colab": {
          "base_uri": "https://localhost:8080/"
        },
        "id": "YrXWSfZWeFXc",
        "outputId": "2f761ec5-f942-4cb9-fab7-e3201f4f188a"
      },
      "execution_count": null,
      "outputs": [
        {
          "output_type": "stream",
          "name": "stdout",
          "text": [
            "[LibSVM]SVM Accuracy: 0.99712\n",
            "              precision    recall  f1-score   support\n",
            "\n",
            "           0       0.79      0.95      0.86      1880\n",
            "           1       1.00      1.00      1.00    198120\n",
            "\n",
            "    accuracy                           1.00    200000\n",
            "   macro avg       0.89      0.97      0.93    200000\n",
            "weighted avg       1.00      1.00      1.00    200000\n",
            "\n"
          ]
        }
      ]
    },
    {
      "cell_type": "markdown",
      "source": [
        "## SGD with Hinge Loss - 6s"
      ],
      "metadata": {
        "id": "ykstMIHZJwiU"
      }
    },
    {
      "cell_type": "code",
      "source": [
        "from sklearn.linear_model import SGDClassifier\n",
        "from sklearn.metrics import accuracy_score, classification_report\n",
        "\n",
        "sgd_model = SGDClassifier(loss='hinge', max_iter=1000, random_state=42)\n",
        "sgd_model.fit(X_train, y_train)\n",
        "y_pred_sgd = sgd_model.predict(X_test)\n",
        "accuracy_sgd = accuracy_score(y_test, y_pred_sgd)\n",
        "print(\"SGD with Hinge Loss Accuracy:\", accuracy_sgd)\n",
        "print(classification_report(y_test, y_pred_sgd))"
      ],
      "metadata": {
        "id": "zTCkQInGHWT1",
        "colab": {
          "base_uri": "https://localhost:8080/"
        },
        "outputId": "a39e3477-d70a-4c13-9923-1b19b8a28b26"
      },
      "execution_count": null,
      "outputs": [
        {
          "output_type": "stream",
          "name": "stdout",
          "text": [
            "SGD with Hinge Loss Accuracy: 0.99567\n",
            "              precision    recall  f1-score   support\n",
            "\n",
            "           0       0.75      0.81      0.78      1880\n",
            "           1       1.00      1.00      1.00    198120\n",
            "\n",
            "    accuracy                           1.00    200000\n",
            "   macro avg       0.87      0.90      0.89    200000\n",
            "weighted avg       1.00      1.00      1.00    200000\n",
            "\n"
          ]
        }
      ]
    },
    {
      "cell_type": "markdown",
      "source": [
        "## XGBoost - 34s"
      ],
      "metadata": {
        "id": "sTdh1_zZszz3"
      }
    },
    {
      "cell_type": "code",
      "source": [
        "import xgboost as xgb\n",
        "from xgboost import plot_tree\n",
        "from sklearn.metrics import accuracy_score, classification_report\n",
        "import matplotlib.pyplot as plt\n",
        "\n",
        "xgb_model = xgb.XGBClassifier(random_state=42, use_label_encoder=False, eval_metric='logloss')\n",
        "xgb_model.fit(X_train, y_train)\n",
        "y_pred_xgb = xgb_model.predict(X_test)\n",
        "accuracy_xgb = accuracy_score(y_test, y_pred_xgb)\n",
        "print(\"XGBoost Accuracy:\", accuracy_xgb)\n",
        "print(classification_report(y_test, y_pred_xgb))"
      ],
      "metadata": {
        "colab": {
          "base_uri": "https://localhost:8080/",
          "height": 328
        },
        "id": "p0gIipcns2Pk",
        "outputId": "b28a50f3-598e-45b5-85d4-b7328ed9339a"
      },
      "execution_count": null,
      "outputs": [
        {
          "output_type": "stream",
          "name": "stderr",
          "text": [
            "/usr/local/lib/python3.11/dist-packages/xgboost/core.py:158: UserWarning: [20:19:12] WARNING: /workspace/src/learner.cc:740: \n",
            "Parameters: { \"use_label_encoder\" } are not used.\n",
            "\n",
            "  warnings.warn(smsg, UserWarning)\n"
          ]
        },
        {
          "output_type": "stream",
          "name": "stdout",
          "text": [
            "XGBoost Accuracy: 0.999495\n",
            "              precision    recall  f1-score   support\n",
            "\n",
            "           0       0.97      0.98      0.97      1880\n",
            "           1       1.00      1.00      1.00    198120\n",
            "\n",
            "    accuracy                           1.00    200000\n",
            "   macro avg       0.98      0.99      0.99    200000\n",
            "weighted avg       1.00      1.00      1.00    200000\n",
            "\n"
          ]
        },
        {
          "output_type": "display_data",
          "data": {
            "text/plain": [
              "<Figure size 640x480 with 1 Axes>"
            ],
            "image/png": "[encoded data removed]"
          },
          "metadata": {}
        }
      ]
    },
    {
      "cell_type": "code",
      "source": [
        "plot_tree(xgb_model, num_trees=1, rankdir='LR')\n",
        "plt.show()"
      ],
      "metadata": {
        "colab": {
          "base_uri": "https://localhost:8080/",
          "height": 406
        },
        "id": "PU-XDJGINb7_",
        "outputId": "69161889-d5a3-4861-9c29-7a4a8371d0f4"
      },
      "execution_count": null,
      "outputs": [
        {
          "output_type": "display_data",
          "data": {
            "text/plain": [
              "<Figure size 640x480 with 1 Axes>"
            ],
            "image/png": "[encoded data removed]"
          },
          "metadata": {}
        }
      ]
    },
    {
      "cell_type": "markdown",
      "source": [
        "## Random Forest - 10m 41s"
      ],
      "metadata": {
        "id": "efzjFWWVuWHb"
      }
    },
    {
      "cell_type": "code",
      "source": [
        "from sklearn.ensemble import RandomForestClassifier\n",
        "from sklearn.metrics import classification_report\n",
        "\n",
        "rf_model = RandomForestClassifier(n_estimators=100, random_state=42)\n",
        "rf_model.fit(X_train, y_train)\n",
        "y_pred_rf = rf_model.predict(X_test)\n",
        "accuracy_rf = accuracy_score(y_test, y_pred_rf)\n",
        "print(\"Random Forest Accuracy:\", accuracy_rf)\n",
        "print(classification_report(y_test, y_pred_rf))"
      ],
      "metadata": {
        "colab": {
          "base_uri": "https://localhost:8080/"
        },
        "id": "wYZJV0u9uXkc",
        "outputId": "5fbe6363-d57c-4e5a-8852-e2571b102e17"
      },
      "execution_count": null,
      "outputs": [
        {
          "output_type": "stream",
          "name": "stdout",
          "text": [
            "Random Forest Accuracy: 0.998915\n",
            "              precision    recall  f1-score   support\n",
            "\n",
            "           0       0.93      0.96      0.94      1880\n",
            "           1       1.00      1.00      1.00    198120\n",
            "\n",
            "    accuracy                           1.00    200000\n",
            "   macro avg       0.96      0.98      0.97    200000\n",
            "weighted avg       1.00      1.00      1.00    200000\n",
            "\n"
          ]
        }
      ]
    }
  ]
}